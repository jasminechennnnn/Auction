{
 "metadata": {
  "language_info": {
   "codemirror_mode": {
    "name": "ipython",
    "version": 3
   },
   "file_extension": ".py",
   "mimetype": "text/x-python",
   "name": "python",
   "nbconvert_exporter": "python",
   "pygments_lexer": "ipython3",
   "version": "3.8.3-final"
  },
  "orig_nbformat": 2,
  "kernelspec": {
   "name": "python3",
   "display_name": "Python 3",
   "language": "python"
  }
 },
 "nbformat": 4,
 "nbformat_minor": 2,
 "cells": [
  {
   "cell_type": "code",
   "execution_count": 39,
   "metadata": {},
   "outputs": [],
   "source": [
    "import pandas as pd\n",
    "import numpy as np\n",
    "import matplotlib.pyplot as plt\n",
    "import seaborn as sns"
   ]
  },
  {
   "cell_type": "code",
   "execution_count": 40,
   "metadata": {},
   "outputs": [],
   "source": [
    "df = pd.read_csv('all_auction_add_close.csv', encoding = 'utf8')\n",
    "# df.head()"
   ]
  },
  {
   "source": [
    "## 整理資料\n",
    "* to_datetime\n",
    "* 刪掉重複資料\n",
    "* 刪除競拍失敗/尚未完成的資料\n",
    "* label stock & cb"
   ],
   "cell_type": "markdown",
   "metadata": {}
  },
  {
   "cell_type": "code",
   "execution_count": 41,
   "metadata": {},
   "outputs": [
    {
     "output_type": "stream",
     "name": "stdout",
     "text": [
      "stock筆數 = 173\ncb筆數 = 26\n"
     ]
    }
   ],
   "source": [
    "df['開標日期'] = pd.to_datetime(df['開標日期'])\n",
    "# df['開標日期']\n",
    "\n",
    "# 刪掉重複的一筆(泰昇-ky, 聯廣)\n",
    "index_name = df[(df['得標總金額(元)'] == '0') & (df['證券名稱'] =='泰昇-KY')].index\n",
    "df.drop(index_name, inplace = True)\n",
    "df.reset_index()\n",
    "# df[df['證券名稱'] =='泰昇-KY']\n",
    "index_name = df[(df['得標總金額(元)'] == '0') & (df['證券名稱'] =='聯廣')].index\n",
    "df.drop(index_name, inplace = True)\n",
    "df.reset_index()\n",
    "# df[df['證券名稱'] =='聯廣']\n",
    "\n",
    "index_name = df[(df['得標總金額(元)'] == '0')].index\n",
    "df.drop(index_name, inplace = True)\n",
    "\n",
    "def label_stock(row):\n",
    "    if row['發行性質'] in ['有擔保轉換公司債','無擔保轉換公司債']:\n",
    "        return \"cb\"\n",
    "    else:\n",
    "        return \"stock\" \n",
    "df['類別'] = df.apply(lambda row : label_stock(row), axis = 1)\n",
    "print('stock筆數 =', sum(df['類別'] == 'stock'))\n",
    "print('cb筆數 =', sum(df['類別'] == 'cb'))"
   ]
  },
  {
   "source": [
    "## 針對stock再進一步處理\n",
    "* 刪除第一上市初上市, 第一上櫃初上櫃資料(因為沒有投標最後一天成交價)\n",
    "* 刪除有遺漏值的row\n"
   ],
   "cell_type": "markdown",
   "metadata": {}
  },
  {
   "cell_type": "code",
   "execution_count": 42,
   "metadata": {},
   "outputs": [
    {
     "output_type": "stream",
     "name": "stdout",
     "text": [
      "(173, 25)\n"
     ]
    }
   ],
   "source": [
    "df_stock = df[df['類別'] == 'stock']\n",
    "df_stock.drop(['可轉債個股投標最後一天均價'], axis = 1, inplace = True)\n",
    "print(df_stock.shape) # 173 * 25\n",
    "\n",
    "# 刪除第一上市初上市, 第一上櫃初上櫃, 共9筆\n",
    "index = df_stock[(df_stock['發行性質'] == '第一上市初上市') | (df_stock['發行性質'] == '第一上櫃初上櫃')].index\n",
    "df_stock.drop(index, inplace = True)\n",
    "# print(df_stock.shape) # 148 * 25\n",
    "# df_stock.info() # nan: (投標最後一天平均成交價 * 1, 撥券日開盤價 * 3)\n",
    "\n",
    "# 直接把有遺漏值的row都刪掉\n",
    "df_stock.dropna(inplace = True)\n",
    "# print(df_stock.shape) # 144 * 25"
   ]
  },
  {
   "source": [
    "## 準備訓練資料\n",
    "* (刪除有outlier的row)\n",
    "* 轉換資料型別"
   ],
   "cell_type": "markdown",
   "metadata": {}
  },
  {
   "cell_type": "code",
   "execution_count": null,
   "metadata": {},
   "outputs": [],
   "source": [
    "train_col = ['開標日期','證券名稱', '證券代號', '發行市場', '發行性質', '競拍數量(張)','類別', '最低投標價格(元)', '最低每標單投標數量(張)','每一投標單投標處理費(元)', '得標手續費率(%)', '投標最後一天平均成交價', '最低得標價格(元)']"
   ]
  },
  {
   "source": [
    "## 切割訓練資料(使用前121筆, 70%)"
   ],
   "cell_type": "markdown",
   "metadata": {}
  },
  {
   "cell_type": "code",
   "execution_count": 4,
   "metadata": {},
   "outputs": [
    {
     "output_type": "execute_result",
     "data": {
      "text/plain": [
       "121.1"
      ]
     },
     "metadata": {},
     "execution_count": 4
    }
   ],
   "source": []
  },
  {
   "cell_type": "code",
   "execution_count": null,
   "metadata": {},
   "outputs": [],
   "source": []
  },
  {
   "cell_type": "code",
   "execution_count": null,
   "metadata": {},
   "outputs": [],
   "source": []
  },
  {
   "cell_type": "code",
   "execution_count": null,
   "metadata": {},
   "outputs": [],
   "source": []
  },
  {
   "cell_type": "code",
   "execution_count": null,
   "metadata": {},
   "outputs": [],
   "source": []
  }
 ]
}