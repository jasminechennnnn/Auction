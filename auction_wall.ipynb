{
 "metadata": {
  "language_info": {
   "codemirror_mode": {
    "name": "ipython",
    "version": 3
   },
   "file_extension": ".py",
   "mimetype": "text/x-python",
   "name": "python",
   "nbconvert_exporter": "python",
   "pygments_lexer": "ipython3",
   "version": "3.8.3-final"
  },
  "orig_nbformat": 2,
  "kernelspec": {
   "name": "python3",
   "display_name": "Python 3.8.3 64-bit (conda)",
   "metadata": {
    "interpreter": {
     "hash": "b3ba2566441a7c06988d0923437866b63cedc61552a5af99d1f4fb67d367b25f"
    }
   }
  }
 },
 "nbformat": 4,
 "nbformat_minor": 2,
 "cells": [
  {
   "cell_type": "code",
   "execution_count": 2,
   "metadata": {},
   "outputs": [],
   "source": [
    "import pandas as pd\n",
    "import numpy as np\n",
    "import matplotlib.pyplot as plt\n",
    "import seaborn as sns"
   ]
  },
  {
   "cell_type": "code",
   "execution_count": 3,
   "metadata": {},
   "outputs": [],
   "source": [
    "df = pd.read_csv('all_auction_add_close.csv', encoding = 'utf8')\n",
    "# df.head()"
   ]
  },
  {
   "cell_type": "code",
   "execution_count": 4,
   "metadata": {},
   "outputs": [],
   "source": [
    "df['開標日期'] = pd.to_datetime(df['開標日期'])\n",
    "# df['開標日期']"
   ]
  },
  {
   "cell_type": "code",
   "execution_count": 5,
   "metadata": {},
   "outputs": [
    {
     "output_type": "execute_result",
     "data": {
      "text/plain": [
       "          開標日期   證券名稱  證券代號    發行市場     發行性質 競拍方式 競拍數量(張) 最低投標價格(元)  \\\n",
       "183 2017-01-03  泰昇-KY  8480  集中交易市場  第一上市初上市  美國標   3,400     82.31   \n",
       "\n",
       "     最低每標單投標數量(張) 最高投(得)標數量(張)  ...  得標手續費率(%)   總合格件 合格投標數量(張) 最低得標價格(元)  \\\n",
       "183             2          425  ...        2.5  1,066    12,763    110.22   \n",
       "\n",
       "    最高得標價格(元)  得標加權平均價格(元) 承銷價格(元) 投標最後一天平均成交價 撥券日開盤價 可轉債個股投標最後一天均價  \n",
       "183       124       112.22   107.0    299.4164  114.5           NaN  \n",
       "\n",
       "[1 rows x 25 columns]"
      ],
      "text/html": "<div>\n<style scoped>\n    .dataframe tbody tr th:only-of-type {\n        vertical-align: middle;\n    }\n\n    .dataframe tbody tr th {\n        vertical-align: top;\n    }\n\n    .dataframe thead th {\n        text-align: right;\n    }\n</style>\n<table border=\"1\" class=\"dataframe\">\n  <thead>\n    <tr style=\"text-align: right;\">\n      <th></th>\n      <th>開標日期</th>\n      <th>證券名稱</th>\n      <th>證券代號</th>\n      <th>發行市場</th>\n      <th>發行性質</th>\n      <th>競拍方式</th>\n      <th>競拍數量(張)</th>\n      <th>最低投標價格(元)</th>\n      <th>最低每標單投標數量(張)</th>\n      <th>最高投(得)標數量(張)</th>\n      <th>...</th>\n      <th>得標手續費率(%)</th>\n      <th>總合格件</th>\n      <th>合格投標數量(張)</th>\n      <th>最低得標價格(元)</th>\n      <th>最高得標價格(元)</th>\n      <th>得標加權平均價格(元)</th>\n      <th>承銷價格(元)</th>\n      <th>投標最後一天平均成交價</th>\n      <th>撥券日開盤價</th>\n      <th>可轉債個股投標最後一天均價</th>\n    </tr>\n  </thead>\n  <tbody>\n    <tr>\n      <th>183</th>\n      <td>2017-01-03</td>\n      <td>泰昇-KY</td>\n      <td>8480</td>\n      <td>集中交易市場</td>\n      <td>第一上市初上市</td>\n      <td>美國標</td>\n      <td>3,400</td>\n      <td>82.31</td>\n      <td>2</td>\n      <td>425</td>\n      <td>...</td>\n      <td>2.5</td>\n      <td>1,066</td>\n      <td>12,763</td>\n      <td>110.22</td>\n      <td>124</td>\n      <td>112.22</td>\n      <td>107.0</td>\n      <td>299.4164</td>\n      <td>114.5</td>\n      <td>NaN</td>\n    </tr>\n  </tbody>\n</table>\n<p>1 rows × 25 columns</p>\n</div>"
     },
     "metadata": {},
     "execution_count": 5
    }
   ],
   "source": [
    "## 刪掉重複的一筆\n",
    "index_name = df[(df['得標總金額(元)'] == '0') & (df['證券名稱'] =='泰昇-KY')].index\n",
    "df.drop(index_name, inplace = True)\n",
    "df.reset_index()\n",
    "df[df['證券名稱'] =='泰昇-KY']"
   ]
  },
  {
   "cell_type": "code",
   "execution_count": 6,
   "metadata": {},
   "outputs": [
    {
     "output_type": "execute_result",
     "data": {
      "text/plain": [
       "          開標日期 證券名稱  證券代號    發行市場 發行性質 競拍方式 競拍數量(張) 最低投標價格(元)  最低每標單投標數量(張)  \\\n",
       "137 2018-03-09   聯廣  8497  集中交易市場  初上市  美國標   4,680        40             1   \n",
       "\n",
       "    最高投(得)標數量(張)  ...  得標手續費率(%)   總合格件 合格投標數量(張) 最低得標價格(元) 最高得標價格(元)  \\\n",
       "137          672  ...        4.0  1,383    23,949      47.6      53.1   \n",
       "\n",
       "     得標加權平均價格(元) 承銷價格(元) 投標最後一天平均成交價 撥券日開盤價 可轉債個股投標最後一天均價  \n",
       "137        49.05    46.0       58.53    NaN           NaN  \n",
       "\n",
       "[1 rows x 25 columns]"
      ],
      "text/html": "<div>\n<style scoped>\n    .dataframe tbody tr th:only-of-type {\n        vertical-align: middle;\n    }\n\n    .dataframe tbody tr th {\n        vertical-align: top;\n    }\n\n    .dataframe thead th {\n        text-align: right;\n    }\n</style>\n<table border=\"1\" class=\"dataframe\">\n  <thead>\n    <tr style=\"text-align: right;\">\n      <th></th>\n      <th>開標日期</th>\n      <th>證券名稱</th>\n      <th>證券代號</th>\n      <th>發行市場</th>\n      <th>發行性質</th>\n      <th>競拍方式</th>\n      <th>競拍數量(張)</th>\n      <th>最低投標價格(元)</th>\n      <th>最低每標單投標數量(張)</th>\n      <th>最高投(得)標數量(張)</th>\n      <th>...</th>\n      <th>得標手續費率(%)</th>\n      <th>總合格件</th>\n      <th>合格投標數量(張)</th>\n      <th>最低得標價格(元)</th>\n      <th>最高得標價格(元)</th>\n      <th>得標加權平均價格(元)</th>\n      <th>承銷價格(元)</th>\n      <th>投標最後一天平均成交價</th>\n      <th>撥券日開盤價</th>\n      <th>可轉債個股投標最後一天均價</th>\n    </tr>\n  </thead>\n  <tbody>\n    <tr>\n      <th>137</th>\n      <td>2018-03-09</td>\n      <td>聯廣</td>\n      <td>8497</td>\n      <td>集中交易市場</td>\n      <td>初上市</td>\n      <td>美國標</td>\n      <td>4,680</td>\n      <td>40</td>\n      <td>1</td>\n      <td>672</td>\n      <td>...</td>\n      <td>4.0</td>\n      <td>1,383</td>\n      <td>23,949</td>\n      <td>47.6</td>\n      <td>53.1</td>\n      <td>49.05</td>\n      <td>46.0</td>\n      <td>58.53</td>\n      <td>NaN</td>\n      <td>NaN</td>\n    </tr>\n  </tbody>\n</table>\n<p>1 rows × 25 columns</p>\n</div>"
     },
     "metadata": {},
     "execution_count": 6
    }
   ],
   "source": [
    "index_name = df[(df['得標總金額(元)'] == '0') & (df['證券名稱'] =='聯廣')].index\n",
    "df.drop(index_name, inplace = True)\n",
    "df.reset_index()\n",
    "df[df['證券名稱'] =='聯廣']"
   ]
  },
  {
   "source": [
    "## 不考慮得標總金額為 0 的資料 (可能是流標 或 正在標)"
   ],
   "cell_type": "markdown",
   "metadata": {}
  },
  {
   "cell_type": "code",
   "execution_count": 7,
   "metadata": {},
   "outputs": [],
   "source": [
    "index_name = df[(df['得標總金額(元)'] == '0')].index\n",
    "df.drop(index_name, inplace = True)"
   ]
  },
  {
   "cell_type": "code",
   "execution_count": 8,
   "metadata": {},
   "outputs": [
    {
     "output_type": "stream",
     "name": "stdout",
     "text": [
      "stock筆數 = 173\ncb筆數 = 26\n"
     ]
    }
   ],
   "source": [
    "def label_stock(row):\n",
    "    if row['發行性質'] in ['有擔保轉換公司債','無擔保轉換公司債']:\n",
    "        return \"cb\"\n",
    "    else:\n",
    "        return \"stock\" \n",
    "\n",
    "df['類別'] = df.apply(lambda row : label_stock(row), axis = 1)\n",
    "\n",
    "print('stock筆數 =', sum(df['類別'] == 'stock'))\n",
    "print('cb筆數 =', sum(df['類別'] == 'cb'))"
   ]
  },
  {
   "source": [
    "## 股票熱度影響"
   ],
   "cell_type": "markdown",
   "metadata": {}
  },
  {
   "cell_type": "code",
   "execution_count": 9,
   "metadata": {},
   "outputs": [],
   "source": [
    "# df_time = df[['開標日期','證券名稱','證券代號','類別','競拍數量(張)', '最低投標價格(元)', '最低每標單投標數量(張)','每一投標單投標處理費(元)', '得標手續費率(%)', '投標最後一天平均成交價', '最低得標價格(元)','最高得標價格(元)', '得標加權平均價格(元)','投標最後一天平均成交價','總合格件', '合格投標數量(張)']]\n",
    "\n",
    "# obj_col = ['競拍數量(張)', '最低投標價格(元)', '最低得標價格(元)', '最高得標價格(元)', '得標加權平均價格(元)', '總合格件', '合格投標數量(張)']\n",
    "# for col in obj_col:\n",
    "#     df_time[col] = df_time[col].apply(lambda x: x.replace(',', '')) \n",
    "#     df_time[col] = df_time[col].apply(pd.to_numeric, errors = 'coerce')\n",
    "\n",
    "# df_time['總投標金額'] = df_time['得標加權平均價格(元)'] * df_time['合格投標數量(張)']\n",
    "# df_time['最低得標相對底標漲幅'] = df_time['最低得標價格(元)']/ df_time['最低投標價格(元)']*100 -100\n",
    "# df_time['加權得標相對底標漲幅'] = df_time['得標加權平均價格(元)']/ df_time['最低投標價格(元)']*100 -100\n",
    "# df_time['最高得標相對底標漲幅'] = df_time['最高得標價格(元)']/ df_time['最低投標價格(元)']*100 -100\n",
    "# df_time['投標競爭度'] = df_time['合格投標數量(張)'] / df_time['競拍數量(張)']\n",
    "# df_time['每標平均張數'] = df_time['合格投標數量(張)'] / df_time['總合格件']\n",
    "\n",
    "# df_time.index = df_time['開標日期']"
   ]
  },
  {
   "source": [
    "## 準備模型配適資料: 選出df開標前就知道的資訊 + 最低得標價(Y)"
   ],
   "cell_type": "markdown",
   "metadata": {}
  },
  {
   "cell_type": "code",
   "execution_count": 10,
   "metadata": {},
   "outputs": [
    {
     "output_type": "execute_result",
     "data": {
      "text/plain": [
       "         開標日期  證券名稱   證券代號    發行市場      發行性質 競拍數量(張)     類別 最低投標價格(元)  \\\n",
       "7  2020-11-27  耀登科技   3138  集中交易市場       初上市   3,740  stock     42.59   \n",
       "8  2020-11-26  叡揚資訊   6752    櫃檯買賣       初上櫃   1,800  stock        50   \n",
       "9  2020-11-23   台驊四  26364    櫃檯買賣  無擔保轉換公司債   2,550     cb       102   \n",
       "10 2020-11-17  亞泰金屬   6727    櫃檯買賣       初上櫃   2,005  stock        48   \n",
       "11 2020-11-10    八貫   1342  集中交易市場       初上市   4,234  stock        50   \n",
       "\n",
       "    最低每標單投標數量(張)  每一投標單投標處理費(元)  得標手續費率(%)  投標最後一天平均成交價 最低得標價格(元)  \n",
       "7              1            400        4.8        80.84      68.6  \n",
       "8              1            400        4.0        67.49     58.51  \n",
       "9              1            400        0.5          NaN     104.2  \n",
       "10             1            400        5.0        68.97      62.4  \n",
       "11             1            400        4.5        76.48      63.6  "
      ],
      "text/html": "<div>\n<style scoped>\n    .dataframe tbody tr th:only-of-type {\n        vertical-align: middle;\n    }\n\n    .dataframe tbody tr th {\n        vertical-align: top;\n    }\n\n    .dataframe thead th {\n        text-align: right;\n    }\n</style>\n<table border=\"1\" class=\"dataframe\">\n  <thead>\n    <tr style=\"text-align: right;\">\n      <th></th>\n      <th>開標日期</th>\n      <th>證券名稱</th>\n      <th>證券代號</th>\n      <th>發行市場</th>\n      <th>發行性質</th>\n      <th>競拍數量(張)</th>\n      <th>類別</th>\n      <th>最低投標價格(元)</th>\n      <th>最低每標單投標數量(張)</th>\n      <th>每一投標單投標處理費(元)</th>\n      <th>得標手續費率(%)</th>\n      <th>投標最後一天平均成交價</th>\n      <th>最低得標價格(元)</th>\n    </tr>\n  </thead>\n  <tbody>\n    <tr>\n      <th>7</th>\n      <td>2020-11-27</td>\n      <td>耀登科技</td>\n      <td>3138</td>\n      <td>集中交易市場</td>\n      <td>初上市</td>\n      <td>3,740</td>\n      <td>stock</td>\n      <td>42.59</td>\n      <td>1</td>\n      <td>400</td>\n      <td>4.8</td>\n      <td>80.84</td>\n      <td>68.6</td>\n    </tr>\n    <tr>\n      <th>8</th>\n      <td>2020-11-26</td>\n      <td>叡揚資訊</td>\n      <td>6752</td>\n      <td>櫃檯買賣</td>\n      <td>初上櫃</td>\n      <td>1,800</td>\n      <td>stock</td>\n      <td>50</td>\n      <td>1</td>\n      <td>400</td>\n      <td>4.0</td>\n      <td>67.49</td>\n      <td>58.51</td>\n    </tr>\n    <tr>\n      <th>9</th>\n      <td>2020-11-23</td>\n      <td>台驊四</td>\n      <td>26364</td>\n      <td>櫃檯買賣</td>\n      <td>無擔保轉換公司債</td>\n      <td>2,550</td>\n      <td>cb</td>\n      <td>102</td>\n      <td>1</td>\n      <td>400</td>\n      <td>0.5</td>\n      <td>NaN</td>\n      <td>104.2</td>\n    </tr>\n    <tr>\n      <th>10</th>\n      <td>2020-11-17</td>\n      <td>亞泰金屬</td>\n      <td>6727</td>\n      <td>櫃檯買賣</td>\n      <td>初上櫃</td>\n      <td>2,005</td>\n      <td>stock</td>\n      <td>48</td>\n      <td>1</td>\n      <td>400</td>\n      <td>5.0</td>\n      <td>68.97</td>\n      <td>62.4</td>\n    </tr>\n    <tr>\n      <th>11</th>\n      <td>2020-11-10</td>\n      <td>八貫</td>\n      <td>1342</td>\n      <td>集中交易市場</td>\n      <td>初上市</td>\n      <td>4,234</td>\n      <td>stock</td>\n      <td>50</td>\n      <td>1</td>\n      <td>400</td>\n      <td>4.5</td>\n      <td>76.48</td>\n      <td>63.6</td>\n    </tr>\n  </tbody>\n</table>\n</div>"
     },
     "metadata": {},
     "execution_count": 10
    }
   ],
   "source": [
    "df_1 = df[['開標日期','證券名稱', '證券代號', '發行市場', '發行性質', '競拍數量(張)','類別', '最低投標價格(元)', '最低每標單投標數量(張)','每一投標單投標處理費(元)', '得標手續費率(%)', '投標最後一天平均成交價', '最低得標價格(元)']]\n",
    "df_1.head()"
   ]
  },
  {
   "cell_type": "code",
   "execution_count": 11,
   "metadata": {},
   "outputs": [],
   "source": [
    "# df_1['發行性質'].value_counts()"
   ]
  },
  {
   "source": [
    "* 將股票和可轉債分開"
   ],
   "cell_type": "markdown",
   "metadata": {}
  },
  {
   "cell_type": "code",
   "execution_count": 12,
   "metadata": {},
   "outputs": [
    {
     "output_type": "stream",
     "name": "stdout",
     "text": [
      "股票 173 可轉債 26\n"
     ]
    }
   ],
   "source": [
    "df1_stock = df_1[df_1['類別'] == 'stock']\n",
    "df1_cb = df_1[df_1['類別'] == 'cb']\n",
    "\n",
    "print('股票',df1_stock.shape[0],'可轉債', df1_cb.shape[0])"
   ]
  },
  {
   "source": [
    "* 刪除有遺漏值的row"
   ],
   "cell_type": "markdown",
   "metadata": {}
  },
  {
   "cell_type": "code",
   "execution_count": 13,
   "metadata": {},
   "outputs": [
    {
     "output_type": "execute_result",
     "data": {
      "text/plain": [
       "(156, 13)"
      ]
     },
     "metadata": {},
     "execution_count": 13
    }
   ],
   "source": [
    "# 直接把有遺漏值的row都刪掉(stock有17筆遺漏值)\n",
    "df1_stock.dropna(inplace = True)\n",
    "df1_stock.shape"
   ]
  },
  {
   "source": [
    "* 轉換資料型別"
   ],
   "cell_type": "markdown",
   "metadata": {}
  },
  {
   "cell_type": "code",
   "execution_count": 14,
   "metadata": {},
   "outputs": [
    {
     "output_type": "execute_result",
     "data": {
      "text/plain": [
       "開標日期             datetime64[ns]\n",
       "證券名稱                     object\n",
       "證券代號                      int64\n",
       "發行市場                     object\n",
       "發行性質                     object\n",
       "競拍數量(張)                   int64\n",
       "類別                       object\n",
       "最低投標價格(元)               float64\n",
       "最低每標單投標數量(張)              int64\n",
       "每一投標單投標處理費(元)             int64\n",
       "得標手續費率(%)               float64\n",
       "投標最後一天平均成交價             float64\n",
       "最低得標價格(元)               float64\n",
       "dtype: object"
      ]
     },
     "metadata": {},
     "execution_count": 14
    }
   ],
   "source": [
    "obj_col = ['競拍數量(張)', '最低投標價格(元)', '最低得標價格(元)']\n",
    "for col in obj_col:\n",
    "    df1_stock[col] = df1_stock[col].apply(lambda x: x.replace(',', '')) \n",
    "    df1_stock[col] = df1_stock[col].apply(pd.to_numeric, errors = 'coerce')\n",
    "\n",
    "df1_stock.isnull().apply(lambda x: sum(x))\n",
    "df1_stock.dtypes"
   ]
  },
  {
   "source": [
    "* 初步刪除outliers"
   ],
   "cell_type": "markdown",
   "metadata": {}
  },
  {
   "cell_type": "code",
   "execution_count": 15,
   "metadata": {},
   "outputs": [
    {
     "output_type": "execute_result",
     "data": {
      "text/plain": [
       "(155, 13)"
      ]
     },
     "metadata": {},
     "execution_count": 15
    }
   ],
   "source": [
    "# 初步剔除outlier\n",
    "outlier = df1_stock['最低投標價格(元)'] > 1200\n",
    "df1_stock[outlier]\n",
    "\n",
    "index = df1_stock[outlier].index\n",
    "df1_stock.drop(index, inplace = True)\n",
    "\n",
    "df1_stock.shape"
   ]
  },
  {
   "source": [
    "* 剔除第一上市初上市, 第一上櫃初上櫃"
   ],
   "cell_type": "markdown",
   "metadata": {}
  },
  {
   "cell_type": "code",
   "execution_count": 16,
   "metadata": {},
   "outputs": [
    {
     "output_type": "execute_result",
     "data": {
      "text/plain": [
       "(146, 13)"
      ]
     },
     "metadata": {},
     "execution_count": 16
    }
   ],
   "source": [
    "index = df1_stock[df1_stock['發行性質']=='第一上市初上市'].index\n",
    "df1_stock.drop(index, inplace = True)\n",
    "\n",
    "index = df1_stock[df1_stock['發行性質']=='第一上櫃初上櫃'].index\n",
    "df1_stock.drop(index, inplace = True)\n",
    "\n",
    "df1_stock.shape"
   ]
  },
  {
   "source": [
    "* 最低每標單投標數量(張), 每一投標單投標處理費(元), 得標手續費率(%) , 發行性質轉成類別資料"
   ],
   "cell_type": "markdown",
   "metadata": {}
  },
  {
   "cell_type": "code",
   "execution_count": 17,
   "metadata": {},
   "outputs": [],
   "source": [
    "# 最低每標單投標數量(張)\n",
    "dummies = pd.get_dummies(df1_stock['最低每標單投標數量(張)'])\n",
    "dummies.columns = ['最低每標單投_1','最低每標單投_2','最低每標單投_3','最低每標單投_5']\n",
    "df1_stock = pd.concat([df1_stock, dummies], axis = 1)\n",
    "# 刪除原始column\n",
    "df1_stock.drop(['最低每標單投標數量(張)'], axis = 1, inplace = True)\n",
    "# df1_stock.head()"
   ]
  },
  {
   "cell_type": "code",
   "execution_count": 18,
   "metadata": {},
   "outputs": [],
   "source": [
    "# 每一投標單投標處理費(元)\n",
    "dummies = pd.get_dummies(df1_stock['每一投標單投標處理費(元)'])\n",
    "dummies.columns = ['處理費_400','處理費_500']\n",
    "df1_stock = pd.concat([df1_stock, dummies], axis = 1)\n",
    "# 刪除原始column\n",
    "df1_stock.drop(['每一投標單投標處理費(元)'], axis = 1, inplace = True)"
   ]
  },
  {
   "cell_type": "code",
   "execution_count": 19,
   "metadata": {},
   "outputs": [],
   "source": [
    "# 得標手續費率(%)\n",
    "dummies = pd.get_dummies(df1_stock['得標手續費率(%)'])\n",
    "dummies.columns = ['手續費_2.5', '手續費_2.75', '手續費_3', '手續費_3.5', '手續費_4', '手續費_4.2', '手續費_4.5', '手續費_4.8', '手續費_5']\n",
    "df1_stock = pd.concat([df1_stock, dummies], axis = 1)\n",
    "# 刪除原始column\n",
    "df1_stock.drop(['得標手續費率(%)'], axis = 1, inplace = True)"
   ]
  },
  {
   "cell_type": "code",
   "execution_count": 20,
   "metadata": {},
   "outputs": [
    {
     "output_type": "execute_result",
     "data": {
      "text/plain": [
       "初上櫃    90\n",
       "初上市    56\n",
       "Name: 發行性質, dtype: int64"
      ]
     },
     "metadata": {},
     "execution_count": 20
    }
   ],
   "source": [
    "df1_stock['發行性質'].value_counts()"
   ]
  },
  {
   "cell_type": "code",
   "execution_count": 21,
   "metadata": {},
   "outputs": [],
   "source": [
    "# 發行性質\n",
    "dummies = pd.get_dummies(df1_stock['發行性質'])\n",
    "df1_stock = pd.concat([df1_stock, dummies], axis = 1)\n",
    "# 刪除原始column\n",
    "df1_stock.drop(['發行性質'], axis = 1, inplace = True)"
   ]
  },
  {
   "cell_type": "code",
   "execution_count": 22,
   "metadata": {},
   "outputs": [
    {
     "output_type": "execute_result",
     "data": {
      "text/plain": [
       "(146, 26)"
      ]
     },
     "metadata": {},
     "execution_count": 22
    }
   ],
   "source": [
    "df1_stock.shape"
   ]
  },
  {
   "cell_type": "code",
   "execution_count": 23,
   "metadata": {},
   "outputs": [
    {
     "output_type": "execute_result",
     "data": {
      "text/plain": [
       "(146, 21)"
      ]
     },
     "metadata": {},
     "execution_count": 23
    }
   ],
   "source": [
    "df1_stock.drop(['開標日期', '證券名稱', '證券代號', '發行市場','類別'], axis = 1, inplace = True)\n",
    "df1_stock.shape"
   ]
  },
  {
   "source": [
    "* 整理dummy var., 做出可以拿去訓練的資料集"
   ],
   "cell_type": "markdown",
   "metadata": {}
  },
  {
   "cell_type": "code",
   "execution_count": 24,
   "metadata": {},
   "outputs": [
    {
     "output_type": "execute_result",
     "data": {
      "text/plain": [
       "(146, 17)"
      ]
     },
     "metadata": {},
     "execution_count": 24
    }
   ],
   "source": [
    "df1_stock_train = df1_stock.drop(['最低每標單投_1', '處理費_400', '手續費_2.75', '初上市'], axis = 1)\n",
    "df1_stock_train.shape "
   ]
  },
  {
   "source": [
    "* 再次刪除outliers, 57和178"
   ],
   "cell_type": "markdown",
   "metadata": {}
  },
  {
   "cell_type": "code",
   "execution_count": 25,
   "metadata": {},
   "outputs": [
    {
     "output_type": "execute_result",
     "data": {
      "text/plain": [
       "     競拍數量(張)  最低投標價格(元)  投標最後一天平均成交價  最低得標價格(元)  最低每標單投_2  最低每標單投_3  最低每標單投_5  \\\n",
       "57    101081      45.69       130.59      60.88         1         0         0   \n",
       "178     2032      28.00        20.24      44.01         1         0         0   \n",
       "\n",
       "     處理費_500  手續費_2.5  手續費_3  手續費_3.5  手續費_4  手續費_4.2  手續費_4.5  手續費_4.8  \\\n",
       "57         0        0      0        0      0        0        0        0   \n",
       "178        1        0      0        0      0        0        1        0   \n",
       "\n",
       "     手續費_5  初上櫃  \n",
       "57       0    0  \n",
       "178      0    1  "
      ],
      "text/html": "<div>\n<style scoped>\n    .dataframe tbody tr th:only-of-type {\n        vertical-align: middle;\n    }\n\n    .dataframe tbody tr th {\n        vertical-align: top;\n    }\n\n    .dataframe thead th {\n        text-align: right;\n    }\n</style>\n<table border=\"1\" class=\"dataframe\">\n  <thead>\n    <tr style=\"text-align: right;\">\n      <th></th>\n      <th>競拍數量(張)</th>\n      <th>最低投標價格(元)</th>\n      <th>投標最後一天平均成交價</th>\n      <th>最低得標價格(元)</th>\n      <th>最低每標單投_2</th>\n      <th>最低每標單投_3</th>\n      <th>最低每標單投_5</th>\n      <th>處理費_500</th>\n      <th>手續費_2.5</th>\n      <th>手續費_3</th>\n      <th>手續費_3.5</th>\n      <th>手續費_4</th>\n      <th>手續費_4.2</th>\n      <th>手續費_4.5</th>\n      <th>手續費_4.8</th>\n      <th>手續費_5</th>\n      <th>初上櫃</th>\n    </tr>\n  </thead>\n  <tbody>\n    <tr>\n      <th>57</th>\n      <td>101081</td>\n      <td>45.69</td>\n      <td>130.59</td>\n      <td>60.88</td>\n      <td>1</td>\n      <td>0</td>\n      <td>0</td>\n      <td>0</td>\n      <td>0</td>\n      <td>0</td>\n      <td>0</td>\n      <td>0</td>\n      <td>0</td>\n      <td>0</td>\n      <td>0</td>\n      <td>0</td>\n      <td>0</td>\n    </tr>\n    <tr>\n      <th>178</th>\n      <td>2032</td>\n      <td>28.00</td>\n      <td>20.24</td>\n      <td>44.01</td>\n      <td>1</td>\n      <td>0</td>\n      <td>0</td>\n      <td>1</td>\n      <td>0</td>\n      <td>0</td>\n      <td>0</td>\n      <td>0</td>\n      <td>0</td>\n      <td>1</td>\n      <td>0</td>\n      <td>0</td>\n      <td>1</td>\n    </tr>\n  </tbody>\n</table>\n</div>"
     },
     "metadata": {},
     "execution_count": 25
    }
   ],
   "source": [
    "df1_stock_train.iloc[(df1_stock_train.index == 57) | (df1_stock_train.index == 178), :]"
   ]
  },
  {
   "cell_type": "code",
   "execution_count": 26,
   "metadata": {},
   "outputs": [
    {
     "output_type": "execute_result",
     "data": {
      "text/plain": [
       "(144, 17)"
      ]
     },
     "metadata": {},
     "execution_count": 26
    }
   ],
   "source": [
    "df1_stock_train.drop([57, 178], axis = 0, inplace = True)\n",
    "df1_stock_train.shape"
   ]
  },
  {
   "source": [
    "## 模型"
   ],
   "cell_type": "markdown",
   "metadata": {}
  },
  {
   "cell_type": "code",
   "execution_count": 27,
   "metadata": {},
   "outputs": [],
   "source": [
    "import statsmodels.api as sm\n",
    "from statsmodels.stats.outliers_influence import variance_inflation_factor\n",
    "import scipy.stats as stats"
   ]
  },
  {
   "cell_type": "code",
   "execution_count": 36,
   "metadata": {},
   "outputs": [
    {
     "output_type": "execute_result",
     "data": {
      "text/plain": [
       "<class 'statsmodels.iolib.summary.Summary'>\n",
       "\"\"\"\n",
       "                            OLS Regression Results                            \n",
       "==============================================================================\n",
       "Dep. Variable:              最低得標價格(元)   R-squared:                       0.995\n",
       "Model:                            OLS   Adj. R-squared:                  0.995\n",
       "Method:                 Least Squares   F-statistic:                     4946.\n",
       "Date:                Mon, 14 Dec 2020   Prob (F-statistic):          1.79e-157\n",
       "Time:                        13:26:31   Log-Likelihood:                -444.53\n",
       "No. Observations:                 144   AIC:                             903.1\n",
       "Df Residuals:                     137   BIC:                             923.9\n",
       "Df Model:                           6                                         \n",
       "Covariance Type:            nonrobust                                         \n",
       "===============================================================================\n",
       "                  coef    std err          t      P>|t|      [0.025      0.975]\n",
       "-------------------------------------------------------------------------------\n",
       "const          -2.2367      1.390     -1.610      0.110      -4.984       0.511\n",
       "投標最後一天平均成交價     0.8746      0.005    162.590      0.000       0.864       0.885\n",
       "處理費_500        -2.1873      1.387     -1.577      0.117      -4.930       0.555\n",
       "手續費_2.5         9.5657      3.039      3.148      0.002       3.557      15.575\n",
       "手續費_4.5        -2.3931      1.366     -1.751      0.082      -5.095       0.309\n",
       "手續費_5          -1.0956      1.404     -0.780      0.437      -3.872       1.681\n",
       "初上櫃             2.5464      0.935      2.724      0.007       0.698       4.395\n",
       "==============================================================================\n",
       "Omnibus:                       24.849   Durbin-Watson:                   1.823\n",
       "Prob(Omnibus):                  0.000   Jarque-Bera (JB):               61.662\n",
       "Skew:                          -0.670   Prob(JB):                     4.08e-14\n",
       "Kurtosis:                       5.913   Cond. No.                         872.\n",
       "==============================================================================\n",
       "\n",
       "Warnings:\n",
       "[1] Standard Errors assume that the covariance matrix of the errors is correctly specified.\n",
       "\"\"\""
      ],
      "text/html": "<table class=\"simpletable\">\n<caption>OLS Regression Results</caption>\n<tr>\n  <th>Dep. Variable:</th>        <td>最低得標價格(元)</td>    <th>  R-squared:         </th> <td>   0.995</td> \n</tr>\n<tr>\n  <th>Model:</th>                   <td>OLS</td>       <th>  Adj. R-squared:    </th> <td>   0.995</td> \n</tr>\n<tr>\n  <th>Method:</th>             <td>Least Squares</td>  <th>  F-statistic:       </th> <td>   4946.</td> \n</tr>\n<tr>\n  <th>Date:</th>             <td>Mon, 14 Dec 2020</td> <th>  Prob (F-statistic):</th> <td>1.79e-157</td>\n</tr>\n<tr>\n  <th>Time:</th>                 <td>13:26:31</td>     <th>  Log-Likelihood:    </th> <td> -444.53</td> \n</tr>\n<tr>\n  <th>No. Observations:</th>      <td>   144</td>      <th>  AIC:               </th> <td>   903.1</td> \n</tr>\n<tr>\n  <th>Df Residuals:</th>          <td>   137</td>      <th>  BIC:               </th> <td>   923.9</td> \n</tr>\n<tr>\n  <th>Df Model:</th>              <td>     6</td>      <th>                     </th>     <td> </td>    \n</tr>\n<tr>\n  <th>Covariance Type:</th>      <td>nonrobust</td>    <th>                     </th>     <td> </td>    \n</tr>\n</table>\n<table class=\"simpletable\">\n<tr>\n       <td></td>          <th>coef</th>     <th>std err</th>      <th>t</th>      <th>P>|t|</th>  <th>[0.025</th>    <th>0.975]</th>  \n</tr>\n<tr>\n  <th>const</th>       <td>   -2.2367</td> <td>    1.390</td> <td>   -1.610</td> <td> 0.110</td> <td>   -4.984</td> <td>    0.511</td>\n</tr>\n<tr>\n  <th>投標最後一天平均成交價</th> <td>    0.8746</td> <td>    0.005</td> <td>  162.590</td> <td> 0.000</td> <td>    0.864</td> <td>    0.885</td>\n</tr>\n<tr>\n  <th>處理費_500</th>     <td>   -2.1873</td> <td>    1.387</td> <td>   -1.577</td> <td> 0.117</td> <td>   -4.930</td> <td>    0.555</td>\n</tr>\n<tr>\n  <th>手續費_2.5</th>     <td>    9.5657</td> <td>    3.039</td> <td>    3.148</td> <td> 0.002</td> <td>    3.557</td> <td>   15.575</td>\n</tr>\n<tr>\n  <th>手續費_4.5</th>     <td>   -2.3931</td> <td>    1.366</td> <td>   -1.751</td> <td> 0.082</td> <td>   -5.095</td> <td>    0.309</td>\n</tr>\n<tr>\n  <th>手續費_5</th>       <td>   -1.0956</td> <td>    1.404</td> <td>   -0.780</td> <td> 0.437</td> <td>   -3.872</td> <td>    1.681</td>\n</tr>\n<tr>\n  <th>初上櫃</th>         <td>    2.5464</td> <td>    0.935</td> <td>    2.724</td> <td> 0.007</td> <td>    0.698</td> <td>    4.395</td>\n</tr>\n</table>\n<table class=\"simpletable\">\n<tr>\n  <th>Omnibus:</th>       <td>24.849</td> <th>  Durbin-Watson:     </th> <td>   1.823</td>\n</tr>\n<tr>\n  <th>Prob(Omnibus):</th> <td> 0.000</td> <th>  Jarque-Bera (JB):  </th> <td>  61.662</td>\n</tr>\n<tr>\n  <th>Skew:</th>          <td>-0.670</td> <th>  Prob(JB):          </th> <td>4.08e-14</td>\n</tr>\n<tr>\n  <th>Kurtosis:</th>      <td> 5.913</td> <th>  Cond. No.          </th> <td>    872.</td>\n</tr>\n</table><br/><br/>Warnings:<br/>[1] Standard Errors assume that the covariance matrix of the errors is correctly specified."
     },
     "metadata": {},
     "execution_count": 36
    }
   ],
   "source": [
    "x_2 = df1_stock_train[['投標最後一天平均成交價','處理費_500', '手續費_2.5', '手續費_4.5', '手續費_5', '初上櫃']]\n",
    "x_lm2 = sm.add_constant(x_2)\n",
    "lm2 = sm.OLS(df1_stock_train['最低得標價格(元)'], x_lm2).fit()\n",
    "lm2.summary() "
   ]
  },
  {
   "cell_type": "code",
   "execution_count": 37,
   "metadata": {},
   "outputs": [
    {
     "output_type": "execute_result",
     "data": {
      "text/plain": [
       "<class 'statsmodels.iolib.summary.Summary'>\n",
       "\"\"\"\n",
       "                            OLS Regression Results                            \n",
       "==============================================================================\n",
       "Dep. Variable:              最低得標價格(元)   R-squared:                       0.995\n",
       "Model:                            OLS   Adj. R-squared:                  0.995\n",
       "Method:                 Least Squares   F-statistic:                     5952.\n",
       "Date:                Mon, 14 Dec 2020   Prob (F-statistic):          2.99e-159\n",
       "Time:                        13:26:34   Log-Likelihood:                -444.85\n",
       "No. Observations:                 144   AIC:                             901.7\n",
       "Df Residuals:                     138   BIC:                             919.5\n",
       "Df Model:                           5                                         \n",
       "Covariance Type:            nonrobust                                         \n",
       "===============================================================================\n",
       "                  coef    std err          t      P>|t|      [0.025      0.975]\n",
       "-------------------------------------------------------------------------------\n",
       "const          -2.8812      1.116     -2.582      0.011      -5.088      -0.675\n",
       "投標最後一天平均成交價     0.8736      0.005    167.036      0.000       0.863       0.884\n",
       "處理費_500        -1.9300      1.345     -1.435      0.154      -4.590       0.730\n",
       "手續費_2.5        10.1124      2.953      3.425      0.001       4.274      15.951\n",
       "手續費_4.5        -1.6869      1.022     -1.650      0.101      -3.708       0.335\n",
       "初上櫃             2.5572      0.933      2.740      0.007       0.712       4.403\n",
       "==============================================================================\n",
       "Omnibus:                       26.844   Durbin-Watson:                   1.820\n",
       "Prob(Omnibus):                  0.000   Jarque-Bera (JB):               67.465\n",
       "Skew:                          -0.725   Prob(JB):                     2.24e-15\n",
       "Kurtosis:                       6.023   Cond. No.                         843.\n",
       "==============================================================================\n",
       "\n",
       "Warnings:\n",
       "[1] Standard Errors assume that the covariance matrix of the errors is correctly specified.\n",
       "\"\"\""
      ],
      "text/html": "<table class=\"simpletable\">\n<caption>OLS Regression Results</caption>\n<tr>\n  <th>Dep. Variable:</th>        <td>最低得標價格(元)</td>    <th>  R-squared:         </th> <td>   0.995</td> \n</tr>\n<tr>\n  <th>Model:</th>                   <td>OLS</td>       <th>  Adj. R-squared:    </th> <td>   0.995</td> \n</tr>\n<tr>\n  <th>Method:</th>             <td>Least Squares</td>  <th>  F-statistic:       </th> <td>   5952.</td> \n</tr>\n<tr>\n  <th>Date:</th>             <td>Mon, 14 Dec 2020</td> <th>  Prob (F-statistic):</th> <td>2.99e-159</td>\n</tr>\n<tr>\n  <th>Time:</th>                 <td>13:26:34</td>     <th>  Log-Likelihood:    </th> <td> -444.85</td> \n</tr>\n<tr>\n  <th>No. Observations:</th>      <td>   144</td>      <th>  AIC:               </th> <td>   901.7</td> \n</tr>\n<tr>\n  <th>Df Residuals:</th>          <td>   138</td>      <th>  BIC:               </th> <td>   919.5</td> \n</tr>\n<tr>\n  <th>Df Model:</th>              <td>     5</td>      <th>                     </th>     <td> </td>    \n</tr>\n<tr>\n  <th>Covariance Type:</th>      <td>nonrobust</td>    <th>                     </th>     <td> </td>    \n</tr>\n</table>\n<table class=\"simpletable\">\n<tr>\n       <td></td>          <th>coef</th>     <th>std err</th>      <th>t</th>      <th>P>|t|</th>  <th>[0.025</th>    <th>0.975]</th>  \n</tr>\n<tr>\n  <th>const</th>       <td>   -2.8812</td> <td>    1.116</td> <td>   -2.582</td> <td> 0.011</td> <td>   -5.088</td> <td>   -0.675</td>\n</tr>\n<tr>\n  <th>投標最後一天平均成交價</th> <td>    0.8736</td> <td>    0.005</td> <td>  167.036</td> <td> 0.000</td> <td>    0.863</td> <td>    0.884</td>\n</tr>\n<tr>\n  <th>處理費_500</th>     <td>   -1.9300</td> <td>    1.345</td> <td>   -1.435</td> <td> 0.154</td> <td>   -4.590</td> <td>    0.730</td>\n</tr>\n<tr>\n  <th>手續費_2.5</th>     <td>   10.1124</td> <td>    2.953</td> <td>    3.425</td> <td> 0.001</td> <td>    4.274</td> <td>   15.951</td>\n</tr>\n<tr>\n  <th>手續費_4.5</th>     <td>   -1.6869</td> <td>    1.022</td> <td>   -1.650</td> <td> 0.101</td> <td>   -3.708</td> <td>    0.335</td>\n</tr>\n<tr>\n  <th>初上櫃</th>         <td>    2.5572</td> <td>    0.933</td> <td>    2.740</td> <td> 0.007</td> <td>    0.712</td> <td>    4.403</td>\n</tr>\n</table>\n<table class=\"simpletable\">\n<tr>\n  <th>Omnibus:</th>       <td>26.844</td> <th>  Durbin-Watson:     </th> <td>   1.820</td>\n</tr>\n<tr>\n  <th>Prob(Omnibus):</th> <td> 0.000</td> <th>  Jarque-Bera (JB):  </th> <td>  67.465</td>\n</tr>\n<tr>\n  <th>Skew:</th>          <td>-0.725</td> <th>  Prob(JB):          </th> <td>2.24e-15</td>\n</tr>\n<tr>\n  <th>Kurtosis:</th>      <td> 6.023</td> <th>  Cond. No.          </th> <td>    843.</td>\n</tr>\n</table><br/><br/>Warnings:<br/>[1] Standard Errors assume that the covariance matrix of the errors is correctly specified."
     },
     "metadata": {},
     "execution_count": 37
    }
   ],
   "source": [
    "x_3 = df1_stock_train[['投標最後一天平均成交價','處理費_500', '手續費_2.5', '手續費_4.5', '初上櫃']]\n",
    "x_lm3 = sm.add_constant(x_3)\n",
    "lm3 = sm.OLS(df1_stock_train['最低得標價格(元)'], x_lm3).fit()\n",
    "lm3.summary() "
   ]
  },
  {
   "cell_type": "code",
   "execution_count": 38,
   "metadata": {},
   "outputs": [
    {
     "output_type": "execute_result",
     "data": {
      "text/plain": [
       "<class 'statsmodels.iolib.summary.Summary'>\n",
       "\"\"\"\n",
       "                            OLS Regression Results                            \n",
       "==============================================================================\n",
       "Dep. Variable:              最低得標價格(元)   R-squared:                       0.995\n",
       "Model:                            OLS   Adj. R-squared:                  0.995\n",
       "Method:                 Least Squares   F-statistic:                     9820.\n",
       "Date:                Mon, 14 Dec 2020   Prob (F-statistic):          1.64e-162\n",
       "Time:                        13:26:35   Log-Likelihood:                -446.61\n",
       "No. Observations:                 144   AIC:                             901.2\n",
       "Df Residuals:                     140   BIC:                             913.1\n",
       "Df Model:                           3                                         \n",
       "Covariance Type:            nonrobust                                         \n",
       "===============================================================================\n",
       "                  coef    std err          t      P>|t|      [0.025      0.975]\n",
       "-------------------------------------------------------------------------------\n",
       "const          -4.1622      0.861     -4.836      0.000      -5.864      -2.461\n",
       "投標最後一天平均成交價     0.8742      0.005    168.675      0.000       0.864       0.884\n",
       "手續費_2.5         9.3058      2.804      3.318      0.001       3.761      14.850\n",
       "初上櫃             2.6192      0.937      2.795      0.006       0.766       4.472\n",
       "==============================================================================\n",
       "Omnibus:                       24.778   Durbin-Watson:                   1.789\n",
       "Prob(Omnibus):                  0.000   Jarque-Bera (JB):               63.375\n",
       "Skew:                          -0.655   Prob(JB):                     1.73e-14\n",
       "Kurtosis:                       5.974   Cond. No.                         787.\n",
       "==============================================================================\n",
       "\n",
       "Warnings:\n",
       "[1] Standard Errors assume that the covariance matrix of the errors is correctly specified.\n",
       "\"\"\""
      ],
      "text/html": "<table class=\"simpletable\">\n<caption>OLS Regression Results</caption>\n<tr>\n  <th>Dep. Variable:</th>        <td>最低得標價格(元)</td>    <th>  R-squared:         </th> <td>   0.995</td> \n</tr>\n<tr>\n  <th>Model:</th>                   <td>OLS</td>       <th>  Adj. R-squared:    </th> <td>   0.995</td> \n</tr>\n<tr>\n  <th>Method:</th>             <td>Least Squares</td>  <th>  F-statistic:       </th> <td>   9820.</td> \n</tr>\n<tr>\n  <th>Date:</th>             <td>Mon, 14 Dec 2020</td> <th>  Prob (F-statistic):</th> <td>1.64e-162</td>\n</tr>\n<tr>\n  <th>Time:</th>                 <td>13:26:35</td>     <th>  Log-Likelihood:    </th> <td> -446.61</td> \n</tr>\n<tr>\n  <th>No. Observations:</th>      <td>   144</td>      <th>  AIC:               </th> <td>   901.2</td> \n</tr>\n<tr>\n  <th>Df Residuals:</th>          <td>   140</td>      <th>  BIC:               </th> <td>   913.1</td> \n</tr>\n<tr>\n  <th>Df Model:</th>              <td>     3</td>      <th>                     </th>     <td> </td>    \n</tr>\n<tr>\n  <th>Covariance Type:</th>      <td>nonrobust</td>    <th>                     </th>     <td> </td>    \n</tr>\n</table>\n<table class=\"simpletable\">\n<tr>\n       <td></td>          <th>coef</th>     <th>std err</th>      <th>t</th>      <th>P>|t|</th>  <th>[0.025</th>    <th>0.975]</th>  \n</tr>\n<tr>\n  <th>const</th>       <td>   -4.1622</td> <td>    0.861</td> <td>   -4.836</td> <td> 0.000</td> <td>   -5.864</td> <td>   -2.461</td>\n</tr>\n<tr>\n  <th>投標最後一天平均成交價</th> <td>    0.8742</td> <td>    0.005</td> <td>  168.675</td> <td> 0.000</td> <td>    0.864</td> <td>    0.884</td>\n</tr>\n<tr>\n  <th>手續費_2.5</th>     <td>    9.3058</td> <td>    2.804</td> <td>    3.318</td> <td> 0.001</td> <td>    3.761</td> <td>   14.850</td>\n</tr>\n<tr>\n  <th>初上櫃</th>         <td>    2.6192</td> <td>    0.937</td> <td>    2.795</td> <td> 0.006</td> <td>    0.766</td> <td>    4.472</td>\n</tr>\n</table>\n<table class=\"simpletable\">\n<tr>\n  <th>Omnibus:</th>       <td>24.778</td> <th>  Durbin-Watson:     </th> <td>   1.789</td>\n</tr>\n<tr>\n  <th>Prob(Omnibus):</th> <td> 0.000</td> <th>  Jarque-Bera (JB):  </th> <td>  63.375</td>\n</tr>\n<tr>\n  <th>Skew:</th>          <td>-0.655</td> <th>  Prob(JB):          </th> <td>1.73e-14</td>\n</tr>\n<tr>\n  <th>Kurtosis:</th>      <td> 5.974</td> <th>  Cond. No.          </th> <td>    787.</td>\n</tr>\n</table><br/><br/>Warnings:<br/>[1] Standard Errors assume that the covariance matrix of the errors is correctly specified."
     },
     "metadata": {},
     "execution_count": 38
    }
   ],
   "source": [
    "x_4 = df1_stock_train[['投標最後一天平均成交價', '手續費_2.5', '初上櫃']]\n",
    "x_lm4 = sm.add_constant(x_4)\n",
    "lm4 = sm.OLS(df1_stock_train['最低得標價格(元)'], x_lm4).fit()\n",
    "lm4.summary() "
   ]
  },
  {
   "cell_type": "code",
   "execution_count": 39,
   "metadata": {},
   "outputs": [
    {
     "output_type": "execute_result",
     "data": {
      "text/plain": [
       "<class 'statsmodels.iolib.summary.Summary'>\n",
       "\"\"\"\n",
       "                            OLS Regression Results                            \n",
       "==============================================================================\n",
       "Dep. Variable:              最低得標價格(元)   R-squared:                       0.995\n",
       "Model:                            OLS   Adj. R-squared:                  0.995\n",
       "Method:                 Least Squares   F-statistic:                 1.428e+04\n",
       "Date:                Mon, 14 Dec 2020   Prob (F-statistic):          1.76e-163\n",
       "Time:                        13:26:36   Log-Likelihood:                -449.36\n",
       "No. Observations:                 144   AIC:                             904.7\n",
       "Df Residuals:                     141   BIC:                             913.6\n",
       "Df Model:                           2                                         \n",
       "Covariance Type:            nonrobust                                         \n",
       "===============================================================================\n",
       "                  coef    std err          t      P>|t|      [0.025      0.975]\n",
       "-------------------------------------------------------------------------------\n",
       "const          -3.1318      0.679     -4.613      0.000      -4.474      -1.790\n",
       "最低投標價格(元)       0.2002      0.054      3.704      0.000       0.093       0.307\n",
       "投標最後一天平均成交價     0.7607      0.032     23.803      0.000       0.698       0.824\n",
       "==============================================================================\n",
       "Omnibus:                       13.004   Durbin-Watson:                   1.592\n",
       "Prob(Omnibus):                  0.002   Jarque-Bera (JB):               26.844\n",
       "Skew:                          -0.338   Prob(JB):                     1.48e-06\n",
       "Kurtosis:                       5.004   Cond. No.                         219.\n",
       "==============================================================================\n",
       "\n",
       "Warnings:\n",
       "[1] Standard Errors assume that the covariance matrix of the errors is correctly specified.\n",
       "\"\"\""
      ],
      "text/html": "<table class=\"simpletable\">\n<caption>OLS Regression Results</caption>\n<tr>\n  <th>Dep. Variable:</th>        <td>最低得標價格(元)</td>    <th>  R-squared:         </th> <td>   0.995</td> \n</tr>\n<tr>\n  <th>Model:</th>                   <td>OLS</td>       <th>  Adj. R-squared:    </th> <td>   0.995</td> \n</tr>\n<tr>\n  <th>Method:</th>             <td>Least Squares</td>  <th>  F-statistic:       </th> <td>1.428e+04</td>\n</tr>\n<tr>\n  <th>Date:</th>             <td>Mon, 14 Dec 2020</td> <th>  Prob (F-statistic):</th> <td>1.76e-163</td>\n</tr>\n<tr>\n  <th>Time:</th>                 <td>13:26:36</td>     <th>  Log-Likelihood:    </th> <td> -449.36</td> \n</tr>\n<tr>\n  <th>No. Observations:</th>      <td>   144</td>      <th>  AIC:               </th> <td>   904.7</td> \n</tr>\n<tr>\n  <th>Df Residuals:</th>          <td>   141</td>      <th>  BIC:               </th> <td>   913.6</td> \n</tr>\n<tr>\n  <th>Df Model:</th>              <td>     2</td>      <th>                     </th>     <td> </td>    \n</tr>\n<tr>\n  <th>Covariance Type:</th>      <td>nonrobust</td>    <th>                     </th>     <td> </td>    \n</tr>\n</table>\n<table class=\"simpletable\">\n<tr>\n       <td></td>          <th>coef</th>     <th>std err</th>      <th>t</th>      <th>P>|t|</th>  <th>[0.025</th>    <th>0.975]</th>  \n</tr>\n<tr>\n  <th>const</th>       <td>   -3.1318</td> <td>    0.679</td> <td>   -4.613</td> <td> 0.000</td> <td>   -4.474</td> <td>   -1.790</td>\n</tr>\n<tr>\n  <th>最低投標價格(元)</th>   <td>    0.2002</td> <td>    0.054</td> <td>    3.704</td> <td> 0.000</td> <td>    0.093</td> <td>    0.307</td>\n</tr>\n<tr>\n  <th>投標最後一天平均成交價</th> <td>    0.7607</td> <td>    0.032</td> <td>   23.803</td> <td> 0.000</td> <td>    0.698</td> <td>    0.824</td>\n</tr>\n</table>\n<table class=\"simpletable\">\n<tr>\n  <th>Omnibus:</th>       <td>13.004</td> <th>  Durbin-Watson:     </th> <td>   1.592</td>\n</tr>\n<tr>\n  <th>Prob(Omnibus):</th> <td> 0.002</td> <th>  Jarque-Bera (JB):  </th> <td>  26.844</td>\n</tr>\n<tr>\n  <th>Skew:</th>          <td>-0.338</td> <th>  Prob(JB):          </th> <td>1.48e-06</td>\n</tr>\n<tr>\n  <th>Kurtosis:</th>      <td> 5.004</td> <th>  Cond. No.          </th> <td>    219.</td>\n</tr>\n</table><br/><br/>Warnings:<br/>[1] Standard Errors assume that the covariance matrix of the errors is correctly specified."
     },
     "metadata": {},
     "execution_count": 39
    }
   ],
   "source": [
    "x_5 = df1_stock_train[['最低投標價格(元)', '投標最後一天平均成交價']]\n",
    "x_lm5 = sm.add_constant(x_5)\n",
    "lm5 = sm.OLS(df1_stock_train['最低得標價格(元)'], x_lm5).fit()\n",
    "lm5.summary() "
   ]
  },
  {
   "cell_type": "code",
   "execution_count": 41,
   "metadata": {},
   "outputs": [],
   "source": [
    "lm2_pred = np.round(lm2.predict(x_lm2), 2)\n",
    "lm3_pred = np.round(lm3.predict(x_lm3), 2)\n",
    "lm4_pred = np.round(lm4.predict(x_lm4), 2)\n",
    "lm5_pred = np.round(lm5.predict(x_lm5), 2)"
   ]
  },
  {
   "source": [
    "## 評估獲利"
   ],
   "cell_type": "markdown",
   "metadata": {}
  },
  {
   "cell_type": "code",
   "execution_count": 454,
   "metadata": {},
   "outputs": [
    {
     "output_type": "execute_result",
     "data": {
      "text/plain": [
       "Index(['開標日期', '證券名稱', '證券代號', '發行市場', '發行性質', '競拍方式', '競拍數量(張)', '最低投標價格(元)',\n",
       "       '最低每標單投標數量(張)', '最高投(得)標數量(張)', '保證金成數(%)', '每一投標單投標處理費(元)',\n",
       "       '撥券日期(上市、上櫃日期)', '主辦券商', '得標總金額(元)', '得標手續費率(%)', '總合格件', '合格投標數量(張)',\n",
       "       '最低得標價格(元)', '最高得標價格(元)', '得標加權平均價格(元)', '承銷價格(元)', '投標最後一天平均成交價',\n",
       "       '撥券日開盤價', '可轉債個股投標最後一天均價', '類別'],\n",
       "      dtype='object')"
      ]
     },
     "metadata": {},
     "execution_count": 454
    }
   ],
   "source": [
    "df.columns"
   ]
  },
  {
   "cell_type": "code",
   "execution_count": 34,
   "metadata": {},
   "outputs": [],
   "source": [
    "def suc_n_profit(df, df_stock, pred):\n",
    "    df_output = pd.DataFrame()\n",
    "    df_output['最低投標價格(元)'] = df_stock['最低投標價格(元)']\n",
    "    df_output['最低得標價格(元)'] = df_stock['最低得標價格(元)']\n",
    "    df_output['撥券日開盤價'] = df.loc[df_stock.index, '撥券日開盤價']\n",
    "    df_output['pred_y'] = pred\n",
    "    df_output['success'] = 0\n",
    "    df_output['success'] = np.where(df_output['pred_y'] >= df_output['最低得標價格(元)'], 1, 0)\n",
    "    df_output['profit'] = np.where(df_output['success'] == 1, (df_output['撥券日開盤價']*1000 - (400 + df_output['pred_y']*1.05*1000)), -500)\n",
    "\n",
    "    return df_output"
   ]
  },
  {
   "cell_type": "code",
   "execution_count": 456,
   "metadata": {},
   "outputs": [
    {
     "output_type": "execute_result",
     "data": {
      "text/plain": [
       "3"
      ]
     },
     "metadata": {},
     "execution_count": 456
    }
   ],
   "source": [
    "# 有三筆train data的'撥券日開盤價'是nan\n",
    "sum(df.loc[df1_stock_train.index, '撥券日開盤價'].isnull())"
   ]
  },
  {
   "cell_type": "code",
   "execution_count": 471,
   "metadata": {},
   "outputs": [
    {
     "output_type": "stream",
     "name": "stdout",
     "text": [
      "完全不可能贏: 36\n有機會贏: 105\n"
     ]
    }
   ],
   "source": [
    "max_profit = lm2_suc_n_profit['撥券日開盤價']*1000 - (lm2_suc_n_profit['最低得標價格(元)']*1.05*1000 + 400)\n",
    "print('完全不可能贏:', sum(max_profit < 0))\n",
    "print('有機會贏:', sum(max_profit > 0))"
   ]
  },
  {
   "cell_type": "code",
   "execution_count": 42,
   "metadata": {},
   "outputs": [
    {
     "output_type": "execute_result",
     "data": {
      "text/plain": [
       "     最低投標價格(元)  最低得標價格(元)  pred_y  success  撥券日開盤價  profit\n",
       "7        42.59      68.60   68.46        0     0.0  -500.0\n",
       "8        50.00      58.51   59.33        1     0.0     0.0\n",
       "10       48.00      62.40   59.53        0    66.2  -500.0\n",
       "11       50.00      63.60   62.26        0    63.0  -500.0\n",
       "12       34.86      49.90   34.48        0    52.8  -500.0\n",
       "..         ...        ...     ...      ...     ...     ...\n",
       "200      11.64      17.21   11.28        0    20.6  -500.0\n",
       "205      24.00      33.76   29.07        0    46.0  -500.0\n",
       "206     152.89     207.11  207.00        0   250.0  -500.0\n",
       "207     108.80     138.21  140.39        1   144.0 -3809.5\n",
       "208      35.00      37.30   34.19        0    44.8  -500.0\n",
       "\n",
       "[144 rows x 6 columns]"
      ],
      "text/html": "<div>\n<style scoped>\n    .dataframe tbody tr th:only-of-type {\n        vertical-align: middle;\n    }\n\n    .dataframe tbody tr th {\n        vertical-align: top;\n    }\n\n    .dataframe thead th {\n        text-align: right;\n    }\n</style>\n<table border=\"1\" class=\"dataframe\">\n  <thead>\n    <tr style=\"text-align: right;\">\n      <th></th>\n      <th>最低投標價格(元)</th>\n      <th>最低得標價格(元)</th>\n      <th>pred_y</th>\n      <th>success</th>\n      <th>撥券日開盤價</th>\n      <th>profit</th>\n    </tr>\n  </thead>\n  <tbody>\n    <tr>\n      <th>7</th>\n      <td>42.59</td>\n      <td>68.60</td>\n      <td>68.46</td>\n      <td>0</td>\n      <td>0.0</td>\n      <td>-500.0</td>\n    </tr>\n    <tr>\n      <th>8</th>\n      <td>50.00</td>\n      <td>58.51</td>\n      <td>59.33</td>\n      <td>1</td>\n      <td>0.0</td>\n      <td>0.0</td>\n    </tr>\n    <tr>\n      <th>10</th>\n      <td>48.00</td>\n      <td>62.40</td>\n      <td>59.53</td>\n      <td>0</td>\n      <td>66.2</td>\n      <td>-500.0</td>\n    </tr>\n    <tr>\n      <th>11</th>\n      <td>50.00</td>\n      <td>63.60</td>\n      <td>62.26</td>\n      <td>0</td>\n      <td>63.0</td>\n      <td>-500.0</td>\n    </tr>\n    <tr>\n      <th>12</th>\n      <td>34.86</td>\n      <td>49.90</td>\n      <td>34.48</td>\n      <td>0</td>\n      <td>52.8</td>\n      <td>-500.0</td>\n    </tr>\n    <tr>\n      <th>...</th>\n      <td>...</td>\n      <td>...</td>\n      <td>...</td>\n      <td>...</td>\n      <td>...</td>\n      <td>...</td>\n    </tr>\n    <tr>\n      <th>200</th>\n      <td>11.64</td>\n      <td>17.21</td>\n      <td>11.28</td>\n      <td>0</td>\n      <td>20.6</td>\n      <td>-500.0</td>\n    </tr>\n    <tr>\n      <th>205</th>\n      <td>24.00</td>\n      <td>33.76</td>\n      <td>29.07</td>\n      <td>0</td>\n      <td>46.0</td>\n      <td>-500.0</td>\n    </tr>\n    <tr>\n      <th>206</th>\n      <td>152.89</td>\n      <td>207.11</td>\n      <td>207.00</td>\n      <td>0</td>\n      <td>250.0</td>\n      <td>-500.0</td>\n    </tr>\n    <tr>\n      <th>207</th>\n      <td>108.80</td>\n      <td>138.21</td>\n      <td>140.39</td>\n      <td>1</td>\n      <td>144.0</td>\n      <td>-3809.5</td>\n    </tr>\n    <tr>\n      <th>208</th>\n      <td>35.00</td>\n      <td>37.30</td>\n      <td>34.19</td>\n      <td>0</td>\n      <td>44.8</td>\n      <td>-500.0</td>\n    </tr>\n  </tbody>\n</table>\n<p>144 rows × 6 columns</p>\n</div>"
     },
     "metadata": {},
     "execution_count": 42
    }
   ],
   "source": [
    "lm2_suc_n_profit = suc_n_profit(df, df1_stock_train, lm2_pred)\n",
    "lm2_suc_n_profit.fillna(0, inplace = True)\n",
    "lm2_suc_n_profit[['最低投標價格(元)', '最低得標價格(元)', 'pred_y', 'success', '撥券日開盤價', 'profit']]"
   ]
  },
  {
   "cell_type": "code",
   "execution_count": 43,
   "metadata": {},
   "outputs": [
    {
     "output_type": "execute_result",
     "data": {
      "text/plain": [
       "     最低投標價格(元)  最低得標價格(元)  pred_y  success  撥券日開盤價  profit\n",
       "7        42.59      68.60   67.74        0     0.0  -500.0\n",
       "8        50.00      58.51   58.64        1     0.0     0.0\n",
       "10       48.00      62.40   59.93        0    66.2  -500.0\n",
       "11       50.00      63.60   62.24        0    63.0  -500.0\n",
       "12       34.86      49.90   34.90        0    52.8  -500.0\n",
       "..         ...        ...     ...      ...     ...     ...\n",
       "200      11.64      17.21   11.97        0    20.6  -500.0\n",
       "205      24.00      33.76   29.74        0    46.0  -500.0\n",
       "206     152.89     207.11  206.40        0   250.0  -500.0\n",
       "207     108.80     138.21  140.42        1   144.0 -3841.0\n",
       "208      35.00      37.30   33.76        0    44.8  -500.0\n",
       "\n",
       "[144 rows x 6 columns]"
      ],
      "text/html": "<div>\n<style scoped>\n    .dataframe tbody tr th:only-of-type {\n        vertical-align: middle;\n    }\n\n    .dataframe tbody tr th {\n        vertical-align: top;\n    }\n\n    .dataframe thead th {\n        text-align: right;\n    }\n</style>\n<table border=\"1\" class=\"dataframe\">\n  <thead>\n    <tr style=\"text-align: right;\">\n      <th></th>\n      <th>最低投標價格(元)</th>\n      <th>最低得標價格(元)</th>\n      <th>pred_y</th>\n      <th>success</th>\n      <th>撥券日開盤價</th>\n      <th>profit</th>\n    </tr>\n  </thead>\n  <tbody>\n    <tr>\n      <th>7</th>\n      <td>42.59</td>\n      <td>68.60</td>\n      <td>67.74</td>\n      <td>0</td>\n      <td>0.0</td>\n      <td>-500.0</td>\n    </tr>\n    <tr>\n      <th>8</th>\n      <td>50.00</td>\n      <td>58.51</td>\n      <td>58.64</td>\n      <td>1</td>\n      <td>0.0</td>\n      <td>0.0</td>\n    </tr>\n    <tr>\n      <th>10</th>\n      <td>48.00</td>\n      <td>62.40</td>\n      <td>59.93</td>\n      <td>0</td>\n      <td>66.2</td>\n      <td>-500.0</td>\n    </tr>\n    <tr>\n      <th>11</th>\n      <td>50.00</td>\n      <td>63.60</td>\n      <td>62.24</td>\n      <td>0</td>\n      <td>63.0</td>\n      <td>-500.0</td>\n    </tr>\n    <tr>\n      <th>12</th>\n      <td>34.86</td>\n      <td>49.90</td>\n      <td>34.90</td>\n      <td>0</td>\n      <td>52.8</td>\n      <td>-500.0</td>\n    </tr>\n    <tr>\n      <th>...</th>\n      <td>...</td>\n      <td>...</td>\n      <td>...</td>\n      <td>...</td>\n      <td>...</td>\n      <td>...</td>\n    </tr>\n    <tr>\n      <th>200</th>\n      <td>11.64</td>\n      <td>17.21</td>\n      <td>11.97</td>\n      <td>0</td>\n      <td>20.6</td>\n      <td>-500.0</td>\n    </tr>\n    <tr>\n      <th>205</th>\n      <td>24.00</td>\n      <td>33.76</td>\n      <td>29.74</td>\n      <td>0</td>\n      <td>46.0</td>\n      <td>-500.0</td>\n    </tr>\n    <tr>\n      <th>206</th>\n      <td>152.89</td>\n      <td>207.11</td>\n      <td>206.40</td>\n      <td>0</td>\n      <td>250.0</td>\n      <td>-500.0</td>\n    </tr>\n    <tr>\n      <th>207</th>\n      <td>108.80</td>\n      <td>138.21</td>\n      <td>140.42</td>\n      <td>1</td>\n      <td>144.0</td>\n      <td>-3841.0</td>\n    </tr>\n    <tr>\n      <th>208</th>\n      <td>35.00</td>\n      <td>37.30</td>\n      <td>33.76</td>\n      <td>0</td>\n      <td>44.8</td>\n      <td>-500.0</td>\n    </tr>\n  </tbody>\n</table>\n<p>144 rows × 6 columns</p>\n</div>"
     },
     "metadata": {},
     "execution_count": 43
    }
   ],
   "source": [
    "lm3_suc_n_profit = suc_n_profit(df, df1_stock_train, lm3_pred)\n",
    "lm3_suc_n_profit.fillna(0, inplace = True)\n",
    "lm3_suc_n_profit[['最低投標價格(元)', '最低得標價格(元)', 'pred_y', 'success', '撥券日開盤價', 'profit']]"
   ]
  },
  {
   "cell_type": "code",
   "execution_count": 44,
   "metadata": {},
   "outputs": [
    {
     "output_type": "execute_result",
     "data": {
      "text/plain": [
       "     最低投標價格(元)  最低得標價格(元)  pred_y  success  撥券日開盤價   profit\n",
       "7        42.59      68.60   66.51        0     0.0   -500.0\n",
       "8        50.00      58.51   57.46        0     0.0   -500.0\n",
       "10       48.00      62.40   58.75        0    66.2   -500.0\n",
       "11       50.00      63.60   62.70        0    63.0   -500.0\n",
       "12       34.86      49.90   33.71        0    52.8   -500.0\n",
       "..         ...        ...     ...      ...     ...      ...\n",
       "200      11.64      17.21   12.63        0    20.6   -500.0\n",
       "205      24.00      33.76   30.41        0    46.0   -500.0\n",
       "206     152.89     207.11  207.26        1   250.0  31977.0\n",
       "207     108.80     138.21  140.42        1   144.0  -3841.0\n",
       "208      35.00      37.30   34.44        0    44.8   -500.0\n",
       "\n",
       "[144 rows x 6 columns]"
      ],
      "text/html": "<div>\n<style scoped>\n    .dataframe tbody tr th:only-of-type {\n        vertical-align: middle;\n    }\n\n    .dataframe tbody tr th {\n        vertical-align: top;\n    }\n\n    .dataframe thead th {\n        text-align: right;\n    }\n</style>\n<table border=\"1\" class=\"dataframe\">\n  <thead>\n    <tr style=\"text-align: right;\">\n      <th></th>\n      <th>最低投標價格(元)</th>\n      <th>最低得標價格(元)</th>\n      <th>pred_y</th>\n      <th>success</th>\n      <th>撥券日開盤價</th>\n      <th>profit</th>\n    </tr>\n  </thead>\n  <tbody>\n    <tr>\n      <th>7</th>\n      <td>42.59</td>\n      <td>68.60</td>\n      <td>66.51</td>\n      <td>0</td>\n      <td>0.0</td>\n      <td>-500.0</td>\n    </tr>\n    <tr>\n      <th>8</th>\n      <td>50.00</td>\n      <td>58.51</td>\n      <td>57.46</td>\n      <td>0</td>\n      <td>0.0</td>\n      <td>-500.0</td>\n    </tr>\n    <tr>\n      <th>10</th>\n      <td>48.00</td>\n      <td>62.40</td>\n      <td>58.75</td>\n      <td>0</td>\n      <td>66.2</td>\n      <td>-500.0</td>\n    </tr>\n    <tr>\n      <th>11</th>\n      <td>50.00</td>\n      <td>63.60</td>\n      <td>62.70</td>\n      <td>0</td>\n      <td>63.0</td>\n      <td>-500.0</td>\n    </tr>\n    <tr>\n      <th>12</th>\n      <td>34.86</td>\n      <td>49.90</td>\n      <td>33.71</td>\n      <td>0</td>\n      <td>52.8</td>\n      <td>-500.0</td>\n    </tr>\n    <tr>\n      <th>...</th>\n      <td>...</td>\n      <td>...</td>\n      <td>...</td>\n      <td>...</td>\n      <td>...</td>\n      <td>...</td>\n    </tr>\n    <tr>\n      <th>200</th>\n      <td>11.64</td>\n      <td>17.21</td>\n      <td>12.63</td>\n      <td>0</td>\n      <td>20.6</td>\n      <td>-500.0</td>\n    </tr>\n    <tr>\n      <th>205</th>\n      <td>24.00</td>\n      <td>33.76</td>\n      <td>30.41</td>\n      <td>0</td>\n      <td>46.0</td>\n      <td>-500.0</td>\n    </tr>\n    <tr>\n      <th>206</th>\n      <td>152.89</td>\n      <td>207.11</td>\n      <td>207.26</td>\n      <td>1</td>\n      <td>250.0</td>\n      <td>31977.0</td>\n    </tr>\n    <tr>\n      <th>207</th>\n      <td>108.80</td>\n      <td>138.21</td>\n      <td>140.42</td>\n      <td>1</td>\n      <td>144.0</td>\n      <td>-3841.0</td>\n    </tr>\n    <tr>\n      <th>208</th>\n      <td>35.00</td>\n      <td>37.30</td>\n      <td>34.44</td>\n      <td>0</td>\n      <td>44.8</td>\n      <td>-500.0</td>\n    </tr>\n  </tbody>\n</table>\n<p>144 rows × 6 columns</p>\n</div>"
     },
     "metadata": {},
     "execution_count": 44
    }
   ],
   "source": [
    "lm4_suc_n_profit = suc_n_profit(df, df1_stock_train, lm4_pred)\n",
    "lm4_suc_n_profit.fillna(0, inplace = True)\n",
    "lm4_suc_n_profit[['最低投標價格(元)', '最低得標價格(元)', 'pred_y', 'success', '撥券日開盤價', 'profit']]"
   ]
  },
  {
   "cell_type": "code",
   "execution_count": 108,
   "metadata": {},
   "outputs": [],
   "source": [
    "# lm5_suc_n_profit = suc_n_profit(df, df1_stock_train, lm5_pred)\n",
    "# lm5_suc_n_profit.fillna(0, inplace = True)\n",
    "# lm5_suc_n_profit[['最低投標價格(元)', '最低得標價格(元)', 'pred_y', 'success', '撥券日開盤價', 'profit']]\n"
   ]
  },
  {
   "cell_type": "code",
   "execution_count": 46,
   "metadata": {},
   "outputs": [
    {
     "output_type": "execute_result",
     "data": {
      "text/plain": [
       "0    81\n",
       "1    63\n",
       "Name: success, dtype: int64"
      ]
     },
     "metadata": {},
     "execution_count": 46
    }
   ],
   "source": [
    "lm2_suc_n_profit['success'].value_counts()"
   ]
  },
  {
   "cell_type": "code",
   "execution_count": 47,
   "metadata": {},
   "outputs": [
    {
     "output_type": "execute_result",
     "data": {
      "text/plain": [
       "0    81\n",
       "1    63\n",
       "Name: success, dtype: int64"
      ]
     },
     "metadata": {},
     "execution_count": 47
    }
   ],
   "source": [
    "lm3_suc_n_profit['success'].value_counts()"
   ]
  },
  {
   "cell_type": "code",
   "execution_count": 48,
   "metadata": {},
   "outputs": [
    {
     "output_type": "execute_result",
     "data": {
      "text/plain": [
       "0    88\n",
       "1    56\n",
       "Name: success, dtype: int64"
      ]
     },
     "metadata": {},
     "execution_count": 48
    }
   ],
   "source": [
    "lm4_suc_n_profit['success'].value_counts()"
   ]
  },
  {
   "cell_type": "code",
   "execution_count": 109,
   "metadata": {},
   "outputs": [],
   "source": [
    "# lm5_suc_n_profit['success'].value_counts()"
   ]
  },
  {
   "cell_type": "code",
   "execution_count": 110,
   "metadata": {},
   "outputs": [
    {
     "output_type": "stream",
     "name": "stdout",
     "text": [
      "profit of lm2 = 148540.5\nprofit of lm3 = 142123.0\nprofit of lm4 = 121784.5\n"
     ]
    }
   ],
   "source": [
    "print('profit of lm2 =', np.round(sum(lm2_suc_n_profit[(lm2_suc_n_profit['profit'] != 0) & (lm2_suc_n_profit['profit'] != -99)]['profit']), 2))\n",
    "print('profit of lm3 =', np.round(sum(lm3_suc_n_profit[(lm3_suc_n_profit['profit'] != 0) & (lm3_suc_n_profit['profit'] != -99)]['profit']), 2))\n",
    "print('profit of lm4 =', np.round(sum(lm4_suc_n_profit[(lm4_suc_n_profit['profit'] != 0) & (lm4_suc_n_profit['profit'] != -99)]['profit']), 2))\n",
    "# print('profit of lm5 =', np.round(sum(lm5_suc_n_profit[(lm5_suc_n_profit['profit'] != 0) & (lm5_suc_n_profit['profit'] != -99)]['profit']), 2))"
   ]
  },
  {
   "cell_type": "code",
   "execution_count": 80,
   "metadata": {},
   "outputs": [
    {
     "output_type": "execute_result",
     "data": {
      "text/plain": [
       "29"
      ]
     },
     "metadata": {},
     "execution_count": 80
    }
   ],
   "source": [
    "lm2_suc_n_profit[lm2_suc_n_profit['profit'] < 0].shape[0]\n",
    "lm2_suc_n_profit[lm2_suc_n_profit['profit'] > 0].shape[0]"
   ]
  },
  {
   "source": [
    "## 回測"
   ],
   "cell_type": "markdown",
   "metadata": {}
  },
  {
   "source": [
    "* 策略一"
   ],
   "cell_type": "markdown",
   "metadata": {}
  },
  {
   "cell_type": "code",
   "execution_count": 107,
   "metadata": {},
   "outputs": [
    {
     "output_type": "execute_result",
     "data": {
      "text/plain": [
       "<matplotlib.legend.Legend at 0x29229d22430>"
      ]
     },
     "metadata": {},
     "execution_count": 107
    },
    {
     "output_type": "display_data",
     "data": {
      "text/plain": "<Figure size 936x576 with 1 Axes>",
      "image/svg+xml": "<?xml version=\"1.0\" encoding=\"utf-8\" standalone=\"no\"?>\r\n<!DOCTYPE svg PUBLIC \"-//W3C//DTD SVG 1.1//EN\"\r\n  \"http://www.w3.org/Graphics/SVG/1.1/DTD/svg11.dtd\">\r\n<!-- Created with matplotlib (https://matplotlib.org/) -->\r\n<svg height=\"465.958125pt\" version=\"1.1\" viewBox=\"0 0 786.992188 465.958125\" width=\"786.992188pt\" xmlns=\"http://www.w3.org/2000/svg\" xmlns:xlink=\"http://www.w3.org/1999/xlink\">\r\n <defs>\r\n  <style type=\"text/css\">\r\n*{stroke-linecap:butt;stroke-linejoin:round;}\r\n  </style>\r\n </defs>\r\n <g id=\"figure_1\">\r\n  <g id=\"patch_1\">\r\n   <path d=\"M -0 465.958125 \r\nL 786.992188 465.958125 \r\nL 786.992188 0 \r\nL -0 0 \r\nz\r\n\" style=\"fill:none;\"/>\r\n  </g>\r\n  <g id=\"axes_1\">\r\n   <g id=\"patch_2\">\r\n    <path d=\"M 54.392188 442.08 \r\nL 779.792187 442.08 \r\nL 779.792187 7.2 \r\nL 54.392188 7.2 \r\nz\r\n\" style=\"fill:#ffffff;\"/>\r\n   </g>\r\n   <g id=\"matplotlib.axis_1\">\r\n    <g id=\"xtick_1\">\r\n     <g id=\"line2d_1\">\r\n      <defs>\r\n       <path d=\"M 0 0 \r\nL 0 3.5 \r\n\" id=\"m7c3aa7a8b5\" style=\"stroke:#000000;stroke-width:0.8;\"/>\r\n      </defs>\r\n      <g>\r\n       <use style=\"stroke:#000000;stroke-width:0.8;\" x=\"87.364915\" xlink:href=\"#m7c3aa7a8b5\" y=\"442.08\"/>\r\n      </g>\r\n     </g>\r\n     <g id=\"text_1\">\r\n      <!-- 0 -->\r\n      <defs>\r\n       <path d=\"M 31.78125 66.40625 \r\nQ 24.171875 66.40625 20.328125 58.90625 \r\nQ 16.5 51.421875 16.5 36.375 \r\nQ 16.5 21.390625 20.328125 13.890625 \r\nQ 24.171875 6.390625 31.78125 6.390625 \r\nQ 39.453125 6.390625 43.28125 13.890625 \r\nQ 47.125 21.390625 47.125 36.375 \r\nQ 47.125 51.421875 43.28125 58.90625 \r\nQ 39.453125 66.40625 31.78125 66.40625 \r\nz\r\nM 31.78125 74.21875 \r\nQ 44.046875 74.21875 50.515625 64.515625 \r\nQ 56.984375 54.828125 56.984375 36.375 \r\nQ 56.984375 17.96875 50.515625 8.265625 \r\nQ 44.046875 -1.421875 31.78125 -1.421875 \r\nQ 19.53125 -1.421875 13.0625 8.265625 \r\nQ 6.59375 17.96875 6.59375 36.375 \r\nQ 6.59375 54.828125 13.0625 64.515625 \r\nQ 19.53125 74.21875 31.78125 74.21875 \r\nz\r\n\" id=\"DejaVuSans-48\"/>\r\n      </defs>\r\n      <g transform=\"translate(84.183665 456.678437)scale(0.1 -0.1)\">\r\n       <use xlink:href=\"#DejaVuSans-48\"/>\r\n      </g>\r\n     </g>\r\n    </g>\r\n    <g id=\"xtick_2\">\r\n     <g id=\"line2d_2\">\r\n      <g>\r\n       <use style=\"stroke:#000000;stroke-width:0.8;\" x=\"179.59632\" xlink:href=\"#m7c3aa7a8b5\" y=\"442.08\"/>\r\n      </g>\r\n     </g>\r\n     <g id=\"text_2\">\r\n      <!-- 20 -->\r\n      <defs>\r\n       <path d=\"M 19.1875 8.296875 \r\nL 53.609375 8.296875 \r\nL 53.609375 0 \r\nL 7.328125 0 \r\nL 7.328125 8.296875 \r\nQ 12.9375 14.109375 22.625 23.890625 \r\nQ 32.328125 33.6875 34.8125 36.53125 \r\nQ 39.546875 41.84375 41.421875 45.53125 \r\nQ 43.3125 49.21875 43.3125 52.78125 \r\nQ 43.3125 58.59375 39.234375 62.25 \r\nQ 35.15625 65.921875 28.609375 65.921875 \r\nQ 23.96875 65.921875 18.8125 64.3125 \r\nQ 13.671875 62.703125 7.8125 59.421875 \r\nL 7.8125 69.390625 \r\nQ 13.765625 71.78125 18.9375 73 \r\nQ 24.125 74.21875 28.421875 74.21875 \r\nQ 39.75 74.21875 46.484375 68.546875 \r\nQ 53.21875 62.890625 53.21875 53.421875 \r\nQ 53.21875 48.921875 51.53125 44.890625 \r\nQ 49.859375 40.875 45.40625 35.40625 \r\nQ 44.1875 33.984375 37.640625 27.21875 \r\nQ 31.109375 20.453125 19.1875 8.296875 \r\nz\r\n\" id=\"DejaVuSans-50\"/>\r\n      </defs>\r\n      <g transform=\"translate(173.23382 456.678437)scale(0.1 -0.1)\">\r\n       <use xlink:href=\"#DejaVuSans-50\"/>\r\n       <use x=\"63.623047\" xlink:href=\"#DejaVuSans-48\"/>\r\n      </g>\r\n     </g>\r\n    </g>\r\n    <g id=\"xtick_3\">\r\n     <g id=\"line2d_3\">\r\n      <g>\r\n       <use style=\"stroke:#000000;stroke-width:0.8;\" x=\"271.827725\" xlink:href=\"#m7c3aa7a8b5\" y=\"442.08\"/>\r\n      </g>\r\n     </g>\r\n     <g id=\"text_3\">\r\n      <!-- 40 -->\r\n      <defs>\r\n       <path d=\"M 37.796875 64.3125 \r\nL 12.890625 25.390625 \r\nL 37.796875 25.390625 \r\nz\r\nM 35.203125 72.90625 \r\nL 47.609375 72.90625 \r\nL 47.609375 25.390625 \r\nL 58.015625 25.390625 \r\nL 58.015625 17.1875 \r\nL 47.609375 17.1875 \r\nL 47.609375 0 \r\nL 37.796875 0 \r\nL 37.796875 17.1875 \r\nL 4.890625 17.1875 \r\nL 4.890625 26.703125 \r\nz\r\n\" id=\"DejaVuSans-52\"/>\r\n      </defs>\r\n      <g transform=\"translate(265.465225 456.678437)scale(0.1 -0.1)\">\r\n       <use xlink:href=\"#DejaVuSans-52\"/>\r\n       <use x=\"63.623047\" xlink:href=\"#DejaVuSans-48\"/>\r\n      </g>\r\n     </g>\r\n    </g>\r\n    <g id=\"xtick_4\">\r\n     <g id=\"line2d_4\">\r\n      <g>\r\n       <use style=\"stroke:#000000;stroke-width:0.8;\" x=\"364.05913\" xlink:href=\"#m7c3aa7a8b5\" y=\"442.08\"/>\r\n      </g>\r\n     </g>\r\n     <g id=\"text_4\">\r\n      <!-- 60 -->\r\n      <defs>\r\n       <path d=\"M 33.015625 40.375 \r\nQ 26.375 40.375 22.484375 35.828125 \r\nQ 18.609375 31.296875 18.609375 23.390625 \r\nQ 18.609375 15.53125 22.484375 10.953125 \r\nQ 26.375 6.390625 33.015625 6.390625 \r\nQ 39.65625 6.390625 43.53125 10.953125 \r\nQ 47.40625 15.53125 47.40625 23.390625 \r\nQ 47.40625 31.296875 43.53125 35.828125 \r\nQ 39.65625 40.375 33.015625 40.375 \r\nz\r\nM 52.59375 71.296875 \r\nL 52.59375 62.3125 \r\nQ 48.875 64.0625 45.09375 64.984375 \r\nQ 41.3125 65.921875 37.59375 65.921875 \r\nQ 27.828125 65.921875 22.671875 59.328125 \r\nQ 17.53125 52.734375 16.796875 39.40625 \r\nQ 19.671875 43.65625 24.015625 45.921875 \r\nQ 28.375 48.1875 33.59375 48.1875 \r\nQ 44.578125 48.1875 50.953125 41.515625 \r\nQ 57.328125 34.859375 57.328125 23.390625 \r\nQ 57.328125 12.15625 50.6875 5.359375 \r\nQ 44.046875 -1.421875 33.015625 -1.421875 \r\nQ 20.359375 -1.421875 13.671875 8.265625 \r\nQ 6.984375 17.96875 6.984375 36.375 \r\nQ 6.984375 53.65625 15.1875 63.9375 \r\nQ 23.390625 74.21875 37.203125 74.21875 \r\nQ 40.921875 74.21875 44.703125 73.484375 \r\nQ 48.484375 72.75 52.59375 71.296875 \r\nz\r\n\" id=\"DejaVuSans-54\"/>\r\n      </defs>\r\n      <g transform=\"translate(357.69663 456.678437)scale(0.1 -0.1)\">\r\n       <use xlink:href=\"#DejaVuSans-54\"/>\r\n       <use x=\"63.623047\" xlink:href=\"#DejaVuSans-48\"/>\r\n      </g>\r\n     </g>\r\n    </g>\r\n    <g id=\"xtick_5\">\r\n     <g id=\"line2d_5\">\r\n      <g>\r\n       <use style=\"stroke:#000000;stroke-width:0.8;\" x=\"456.290535\" xlink:href=\"#m7c3aa7a8b5\" y=\"442.08\"/>\r\n      </g>\r\n     </g>\r\n     <g id=\"text_5\">\r\n      <!-- 80 -->\r\n      <defs>\r\n       <path d=\"M 31.78125 34.625 \r\nQ 24.75 34.625 20.71875 30.859375 \r\nQ 16.703125 27.09375 16.703125 20.515625 \r\nQ 16.703125 13.921875 20.71875 10.15625 \r\nQ 24.75 6.390625 31.78125 6.390625 \r\nQ 38.8125 6.390625 42.859375 10.171875 \r\nQ 46.921875 13.96875 46.921875 20.515625 \r\nQ 46.921875 27.09375 42.890625 30.859375 \r\nQ 38.875 34.625 31.78125 34.625 \r\nz\r\nM 21.921875 38.8125 \r\nQ 15.578125 40.375 12.03125 44.71875 \r\nQ 8.5 49.078125 8.5 55.328125 \r\nQ 8.5 64.0625 14.71875 69.140625 \r\nQ 20.953125 74.21875 31.78125 74.21875 \r\nQ 42.671875 74.21875 48.875 69.140625 \r\nQ 55.078125 64.0625 55.078125 55.328125 \r\nQ 55.078125 49.078125 51.53125 44.71875 \r\nQ 48 40.375 41.703125 38.8125 \r\nQ 48.828125 37.15625 52.796875 32.3125 \r\nQ 56.78125 27.484375 56.78125 20.515625 \r\nQ 56.78125 9.90625 50.3125 4.234375 \r\nQ 43.84375 -1.421875 31.78125 -1.421875 \r\nQ 19.734375 -1.421875 13.25 4.234375 \r\nQ 6.78125 9.90625 6.78125 20.515625 \r\nQ 6.78125 27.484375 10.78125 32.3125 \r\nQ 14.796875 37.15625 21.921875 38.8125 \r\nz\r\nM 18.3125 54.390625 \r\nQ 18.3125 48.734375 21.84375 45.5625 \r\nQ 25.390625 42.390625 31.78125 42.390625 \r\nQ 38.140625 42.390625 41.71875 45.5625 \r\nQ 45.3125 48.734375 45.3125 54.390625 \r\nQ 45.3125 60.0625 41.71875 63.234375 \r\nQ 38.140625 66.40625 31.78125 66.40625 \r\nQ 25.390625 66.40625 21.84375 63.234375 \r\nQ 18.3125 60.0625 18.3125 54.390625 \r\nz\r\n\" id=\"DejaVuSans-56\"/>\r\n      </defs>\r\n      <g transform=\"translate(449.928035 456.678437)scale(0.1 -0.1)\">\r\n       <use xlink:href=\"#DejaVuSans-56\"/>\r\n       <use x=\"63.623047\" xlink:href=\"#DejaVuSans-48\"/>\r\n      </g>\r\n     </g>\r\n    </g>\r\n    <g id=\"xtick_6\">\r\n     <g id=\"line2d_6\">\r\n      <g>\r\n       <use style=\"stroke:#000000;stroke-width:0.8;\" x=\"548.52194\" xlink:href=\"#m7c3aa7a8b5\" y=\"442.08\"/>\r\n      </g>\r\n     </g>\r\n     <g id=\"text_6\">\r\n      <!-- 100 -->\r\n      <defs>\r\n       <path d=\"M 12.40625 8.296875 \r\nL 28.515625 8.296875 \r\nL 28.515625 63.921875 \r\nL 10.984375 60.40625 \r\nL 10.984375 69.390625 \r\nL 28.421875 72.90625 \r\nL 38.28125 72.90625 \r\nL 38.28125 8.296875 \r\nL 54.390625 8.296875 \r\nL 54.390625 0 \r\nL 12.40625 0 \r\nz\r\n\" id=\"DejaVuSans-49\"/>\r\n      </defs>\r\n      <g transform=\"translate(538.97819 456.678437)scale(0.1 -0.1)\">\r\n       <use xlink:href=\"#DejaVuSans-49\"/>\r\n       <use x=\"63.623047\" xlink:href=\"#DejaVuSans-48\"/>\r\n       <use x=\"127.246094\" xlink:href=\"#DejaVuSans-48\"/>\r\n      </g>\r\n     </g>\r\n    </g>\r\n    <g id=\"xtick_7\">\r\n     <g id=\"line2d_7\">\r\n      <g>\r\n       <use style=\"stroke:#000000;stroke-width:0.8;\" x=\"640.753345\" xlink:href=\"#m7c3aa7a8b5\" y=\"442.08\"/>\r\n      </g>\r\n     </g>\r\n     <g id=\"text_7\">\r\n      <!-- 120 -->\r\n      <g transform=\"translate(631.209595 456.678437)scale(0.1 -0.1)\">\r\n       <use xlink:href=\"#DejaVuSans-49\"/>\r\n       <use x=\"63.623047\" xlink:href=\"#DejaVuSans-50\"/>\r\n       <use x=\"127.246094\" xlink:href=\"#DejaVuSans-48\"/>\r\n      </g>\r\n     </g>\r\n    </g>\r\n    <g id=\"xtick_8\">\r\n     <g id=\"line2d_8\">\r\n      <g>\r\n       <use style=\"stroke:#000000;stroke-width:0.8;\" x=\"732.984749\" xlink:href=\"#m7c3aa7a8b5\" y=\"442.08\"/>\r\n      </g>\r\n     </g>\r\n     <g id=\"text_8\">\r\n      <!-- 140 -->\r\n      <g transform=\"translate(723.440999 456.678437)scale(0.1 -0.1)\">\r\n       <use xlink:href=\"#DejaVuSans-49\"/>\r\n       <use x=\"63.623047\" xlink:href=\"#DejaVuSans-52\"/>\r\n       <use x=\"127.246094\" xlink:href=\"#DejaVuSans-48\"/>\r\n      </g>\r\n     </g>\r\n    </g>\r\n   </g>\r\n   <g id=\"matplotlib.axis_2\">\r\n    <g id=\"ytick_1\">\r\n     <g id=\"line2d_9\">\r\n      <defs>\r\n       <path d=\"M 0 0 \r\nL -3.5 0 \r\n\" id=\"mde98df238c\" style=\"stroke:#000000;stroke-width:0.8;\"/>\r\n      </defs>\r\n      <g>\r\n       <use style=\"stroke:#000000;stroke-width:0.8;\" x=\"54.392188\" xlink:href=\"#mde98df238c\" y=\"440.081152\"/>\r\n      </g>\r\n     </g>\r\n     <g id=\"text_9\">\r\n      <!-- −50000 -->\r\n      <defs>\r\n       <path d=\"M 10.59375 35.5 \r\nL 73.1875 35.5 \r\nL 73.1875 27.203125 \r\nL 10.59375 27.203125 \r\nz\r\n\" id=\"DejaVuSans-8722\"/>\r\n       <path d=\"M 10.796875 72.90625 \r\nL 49.515625 72.90625 \r\nL 49.515625 64.59375 \r\nL 19.828125 64.59375 \r\nL 19.828125 46.734375 \r\nQ 21.96875 47.46875 24.109375 47.828125 \r\nQ 26.265625 48.1875 28.421875 48.1875 \r\nQ 40.625 48.1875 47.75 41.5 \r\nQ 54.890625 34.8125 54.890625 23.390625 \r\nQ 54.890625 11.625 47.5625 5.09375 \r\nQ 40.234375 -1.421875 26.90625 -1.421875 \r\nQ 22.3125 -1.421875 17.546875 -0.640625 \r\nQ 12.796875 0.140625 7.71875 1.703125 \r\nL 7.71875 11.625 \r\nQ 12.109375 9.234375 16.796875 8.0625 \r\nQ 21.484375 6.890625 26.703125 6.890625 \r\nQ 35.15625 6.890625 40.078125 11.328125 \r\nQ 45.015625 15.765625 45.015625 23.390625 \r\nQ 45.015625 31 40.078125 35.4375 \r\nQ 35.15625 39.890625 26.703125 39.890625 \r\nQ 22.75 39.890625 18.8125 39.015625 \r\nQ 14.890625 38.140625 10.796875 36.28125 \r\nz\r\n\" id=\"DejaVuSans-53\"/>\r\n      </defs>\r\n      <g transform=\"translate(7.2 443.880371)scale(0.1 -0.1)\">\r\n       <use xlink:href=\"#DejaVuSans-8722\"/>\r\n       <use x=\"83.789062\" xlink:href=\"#DejaVuSans-53\"/>\r\n       <use x=\"147.412109\" xlink:href=\"#DejaVuSans-48\"/>\r\n       <use x=\"211.035156\" xlink:href=\"#DejaVuSans-48\"/>\r\n       <use x=\"274.658203\" xlink:href=\"#DejaVuSans-48\"/>\r\n       <use x=\"338.28125\" xlink:href=\"#DejaVuSans-48\"/>\r\n      </g>\r\n     </g>\r\n    </g>\r\n    <g id=\"ytick_2\">\r\n     <g id=\"line2d_10\">\r\n      <g>\r\n       <use style=\"stroke:#000000;stroke-width:0.8;\" x=\"54.392188\" xlink:href=\"#mde98df238c\" y=\"390.158628\"/>\r\n      </g>\r\n     </g>\r\n     <g id=\"text_10\">\r\n      <!-- −25000 -->\r\n      <g transform=\"translate(7.2 393.957847)scale(0.1 -0.1)\">\r\n       <use xlink:href=\"#DejaVuSans-8722\"/>\r\n       <use x=\"83.789062\" xlink:href=\"#DejaVuSans-50\"/>\r\n       <use x=\"147.412109\" xlink:href=\"#DejaVuSans-53\"/>\r\n       <use x=\"211.035156\" xlink:href=\"#DejaVuSans-48\"/>\r\n       <use x=\"274.658203\" xlink:href=\"#DejaVuSans-48\"/>\r\n       <use x=\"338.28125\" xlink:href=\"#DejaVuSans-48\"/>\r\n      </g>\r\n     </g>\r\n    </g>\r\n    <g id=\"ytick_3\">\r\n     <g id=\"line2d_11\">\r\n      <g>\r\n       <use style=\"stroke:#000000;stroke-width:0.8;\" x=\"54.392188\" xlink:href=\"#mde98df238c\" y=\"340.236104\"/>\r\n      </g>\r\n     </g>\r\n     <g id=\"text_11\">\r\n      <!-- 0 -->\r\n      <g transform=\"translate(41.029688 344.035323)scale(0.1 -0.1)\">\r\n       <use xlink:href=\"#DejaVuSans-48\"/>\r\n      </g>\r\n     </g>\r\n    </g>\r\n    <g id=\"ytick_4\">\r\n     <g id=\"line2d_12\">\r\n      <g>\r\n       <use style=\"stroke:#000000;stroke-width:0.8;\" x=\"54.392188\" xlink:href=\"#mde98df238c\" y=\"290.31358\"/>\r\n      </g>\r\n     </g>\r\n     <g id=\"text_12\">\r\n      <!-- 25000 -->\r\n      <g transform=\"translate(15.579688 294.112798)scale(0.1 -0.1)\">\r\n       <use xlink:href=\"#DejaVuSans-50\"/>\r\n       <use x=\"63.623047\" xlink:href=\"#DejaVuSans-53\"/>\r\n       <use x=\"127.246094\" xlink:href=\"#DejaVuSans-48\"/>\r\n       <use x=\"190.869141\" xlink:href=\"#DejaVuSans-48\"/>\r\n       <use x=\"254.492188\" xlink:href=\"#DejaVuSans-48\"/>\r\n      </g>\r\n     </g>\r\n    </g>\r\n    <g id=\"ytick_5\">\r\n     <g id=\"line2d_13\">\r\n      <g>\r\n       <use style=\"stroke:#000000;stroke-width:0.8;\" x=\"54.392188\" xlink:href=\"#mde98df238c\" y=\"240.391056\"/>\r\n      </g>\r\n     </g>\r\n     <g id=\"text_13\">\r\n      <!-- 50000 -->\r\n      <g transform=\"translate(15.579688 244.190274)scale(0.1 -0.1)\">\r\n       <use xlink:href=\"#DejaVuSans-53\"/>\r\n       <use x=\"63.623047\" xlink:href=\"#DejaVuSans-48\"/>\r\n       <use x=\"127.246094\" xlink:href=\"#DejaVuSans-48\"/>\r\n       <use x=\"190.869141\" xlink:href=\"#DejaVuSans-48\"/>\r\n       <use x=\"254.492188\" xlink:href=\"#DejaVuSans-48\"/>\r\n      </g>\r\n     </g>\r\n    </g>\r\n    <g id=\"ytick_6\">\r\n     <g id=\"line2d_14\">\r\n      <g>\r\n       <use style=\"stroke:#000000;stroke-width:0.8;\" x=\"54.392188\" xlink:href=\"#mde98df238c\" y=\"190.468531\"/>\r\n      </g>\r\n     </g>\r\n     <g id=\"text_14\">\r\n      <!-- 75000 -->\r\n      <defs>\r\n       <path d=\"M 8.203125 72.90625 \r\nL 55.078125 72.90625 \r\nL 55.078125 68.703125 \r\nL 28.609375 0 \r\nL 18.3125 0 \r\nL 43.21875 64.59375 \r\nL 8.203125 64.59375 \r\nz\r\n\" id=\"DejaVuSans-55\"/>\r\n      </defs>\r\n      <g transform=\"translate(15.579688 194.26775)scale(0.1 -0.1)\">\r\n       <use xlink:href=\"#DejaVuSans-55\"/>\r\n       <use x=\"63.623047\" xlink:href=\"#DejaVuSans-53\"/>\r\n       <use x=\"127.246094\" xlink:href=\"#DejaVuSans-48\"/>\r\n       <use x=\"190.869141\" xlink:href=\"#DejaVuSans-48\"/>\r\n       <use x=\"254.492188\" xlink:href=\"#DejaVuSans-48\"/>\r\n      </g>\r\n     </g>\r\n    </g>\r\n    <g id=\"ytick_7\">\r\n     <g id=\"line2d_15\">\r\n      <g>\r\n       <use style=\"stroke:#000000;stroke-width:0.8;\" x=\"54.392188\" xlink:href=\"#mde98df238c\" y=\"140.546007\"/>\r\n      </g>\r\n     </g>\r\n     <g id=\"text_15\">\r\n      <!-- 100000 -->\r\n      <g transform=\"translate(9.217188 144.345226)scale(0.1 -0.1)\">\r\n       <use xlink:href=\"#DejaVuSans-49\"/>\r\n       <use x=\"63.623047\" xlink:href=\"#DejaVuSans-48\"/>\r\n       <use x=\"127.246094\" xlink:href=\"#DejaVuSans-48\"/>\r\n       <use x=\"190.869141\" xlink:href=\"#DejaVuSans-48\"/>\r\n       <use x=\"254.492188\" xlink:href=\"#DejaVuSans-48\"/>\r\n       <use x=\"318.115234\" xlink:href=\"#DejaVuSans-48\"/>\r\n      </g>\r\n     </g>\r\n    </g>\r\n    <g id=\"ytick_8\">\r\n     <g id=\"line2d_16\">\r\n      <g>\r\n       <use style=\"stroke:#000000;stroke-width:0.8;\" x=\"54.392188\" xlink:href=\"#mde98df238c\" y=\"90.623483\"/>\r\n      </g>\r\n     </g>\r\n     <g id=\"text_16\">\r\n      <!-- 125000 -->\r\n      <g transform=\"translate(9.217188 94.422702)scale(0.1 -0.1)\">\r\n       <use xlink:href=\"#DejaVuSans-49\"/>\r\n       <use x=\"63.623047\" xlink:href=\"#DejaVuSans-50\"/>\r\n       <use x=\"127.246094\" xlink:href=\"#DejaVuSans-53\"/>\r\n       <use x=\"190.869141\" xlink:href=\"#DejaVuSans-48\"/>\r\n       <use x=\"254.492188\" xlink:href=\"#DejaVuSans-48\"/>\r\n       <use x=\"318.115234\" xlink:href=\"#DejaVuSans-48\"/>\r\n      </g>\r\n     </g>\r\n    </g>\r\n    <g id=\"ytick_9\">\r\n     <g id=\"line2d_17\">\r\n      <g>\r\n       <use style=\"stroke:#000000;stroke-width:0.8;\" x=\"54.392188\" xlink:href=\"#mde98df238c\" y=\"40.700959\"/>\r\n      </g>\r\n     </g>\r\n     <g id=\"text_17\">\r\n      <!-- 150000 -->\r\n      <g transform=\"translate(9.217188 44.500178)scale(0.1 -0.1)\">\r\n       <use xlink:href=\"#DejaVuSans-49\"/>\r\n       <use x=\"63.623047\" xlink:href=\"#DejaVuSans-53\"/>\r\n       <use x=\"127.246094\" xlink:href=\"#DejaVuSans-48\"/>\r\n       <use x=\"190.869141\" xlink:href=\"#DejaVuSans-48\"/>\r\n       <use x=\"254.492188\" xlink:href=\"#DejaVuSans-48\"/>\r\n       <use x=\"318.115234\" xlink:href=\"#DejaVuSans-48\"/>\r\n      </g>\r\n     </g>\r\n    </g>\r\n   </g>\r\n   <g id=\"line2d_18\">\r\n    <path clip-path=\"url(#pcfa2f79193)\" d=\"M 87.364915 341.234554 \r\nL 91.976485 348.841749 \r\nL 105.811196 351.8371 \r\nL 110.422766 354.385146 \r\nL 115.034336 355.383596 \r\nL 119.645907 358.463816 \r\nL 124.257477 359.462266 \r\nL 128.869047 380.648387 \r\nL 133.480617 383.588824 \r\nL 138.092187 407.038432 \r\nL 142.703758 408.036882 \r\nL 147.315328 416.043457 \r\nL 151.926898 380.450694 \r\nL 156.538468 376.832309 \r\nL 170.373179 379.827661 \r\nL 174.984749 396.629586 \r\nL 184.20789 398.626486 \r\nL 188.81946 337.361565 \r\nL 211.877311 342.353817 \r\nL 216.488882 345.685647 \r\nL 221.100452 356.060546 \r\nL 225.712022 350.230593 \r\nL 230.323592 352.883476 \r\nL 234.935163 360.210106 \r\nL 239.546733 372.122618 \r\nL 244.158303 376.003595 \r\nL 248.769873 360.662404 \r\nL 253.381444 348.426393 \r\nL 257.993014 340.343936 \r\nL 267.216154 342.340837 \r\nL 271.827725 357.924653 \r\nL 276.439295 358.923103 \r\nL 281.050865 340.365902 \r\nL 285.662435 341.364353 \r\nL 290.274006 347.261201 \r\nL 294.885576 350.609006 \r\nL 299.497146 343.380224 \r\nL 304.108716 344.378675 \r\nL 308.720287 345.661684 \r\nL 313.331857 350.50317 \r\nL 317.943427 351.501621 \r\nL 322.554997 323.339326 \r\nL 327.166568 324.337777 \r\nL 336.389708 324.300834 \r\nL 341.001278 325.181467 \r\nL 345.612849 326.179918 \r\nL 350.224419 309.332064 \r\nL 354.835989 308.286687 \r\nL 373.28227 312.280489 \r\nL 377.89384 316.169453 \r\nL 382.505411 293.171145 \r\nL 387.116981 278.569805 \r\nL 391.728551 279.568256 \r\nL 396.340121 272.707902 \r\nL 410.174832 275.703254 \r\nL 414.786402 284.834083 \r\nL 447.067394 291.823237 \r\nL 451.678964 290.896675 \r\nL 460.902105 292.893576 \r\nL 465.513675 296.727626 \r\nL 470.125245 297.726076 \r\nL 474.736816 304.323837 \r\nL 479.348386 305.628812 \r\nL 483.959956 328.508304 \r\nL 488.571526 327.842338 \r\nL 497.794667 329.839239 \r\nL 502.406237 271.637563 \r\nL 507.017807 245.494136 \r\nL 511.629378 183.401499 \r\nL 530.075659 187.395301 \r\nL 534.687229 172.706097 \r\nL 557.74508 177.69835 \r\nL 562.35665 144.884275 \r\nL 585.414502 149.876527 \r\nL 590.026072 146.719427 \r\nL 594.637642 151.87243 \r\nL 599.249212 163.01314 \r\nL 608.472353 165.010041 \r\nL 613.083923 169.331335 \r\nL 622.307064 171.328236 \r\nL 626.918634 171.149513 \r\nL 631.530204 150.520528 \r\nL 636.141774 157.983945 \r\nL 640.753345 152.263822 \r\nL 668.422766 158.254525 \r\nL 673.034336 158.439238 \r\nL 686.869047 161.43459 \r\nL 691.480617 71.32044 \r\nL 700.703758 73.317341 \r\nL 705.315328 26.967273 \r\nL 709.926898 27.965723 \r\nL 714.538468 37.624733 \r\nL 737.59632 42.616986 \r\nL 742.20789 42.616986 \r\nL 746.81946 43.615436 \r\nL 746.81946 43.615436 \r\n\" style=\"fill:none;stroke:#1f77b4;stroke-linecap:square;stroke-width:1.5;\"/>\r\n   </g>\r\n   <g id=\"line2d_19\">\r\n    <path clip-path=\"url(#pcfa2f79193)\" d=\"M 87.364915 341.234554 \r\nL 91.976485 348.904651 \r\nL 105.811196 351.900002 \r\nL 110.422766 355.517388 \r\nL 115.034336 356.515839 \r\nL 119.645907 360.958944 \r\nL 124.257477 361.957394 \r\nL 128.869047 384.317693 \r\nL 133.480617 387.488771 \r\nL 138.092187 412.17546 \r\nL 142.703758 413.17391 \r\nL 147.315328 422.312727 \r\nL 151.926898 386.992541 \r\nL 156.538468 384.275758 \r\nL 170.373179 387.271109 \r\nL 174.984749 404.408513 \r\nL 184.20789 406.405414 \r\nL 188.81946 344.196957 \r\nL 211.877311 349.189209 \r\nL 216.488882 351.116219 \r\nL 221.100452 359.960493 \r\nL 225.712022 354.004736 \r\nL 230.323592 356.657619 \r\nL 234.935163 363.837476 \r\nL 239.546733 374.261299 \r\nL 244.158303 378.142276 \r\nL 248.769873 362.59141 \r\nL 253.381444 350.418302 \r\nL 267.216154 353.413653 \r\nL 271.827725 368.934566 \r\nL 276.439295 369.933017 \r\nL 281.050865 351.166141 \r\nL 285.662435 352.164592 \r\nL 290.274006 358.06144 \r\nL 294.885576 361.346342 \r\nL 299.497146 354.159496 \r\nL 304.108716 355.157946 \r\nL 308.720287 356.419988 \r\nL 313.331857 359.667947 \r\nL 317.943427 360.666398 \r\nL 322.554997 332.441201 \r\nL 327.166568 333.439651 \r\nL 336.389708 333.465611 \r\nL 345.612849 335.449532 \r\nL 350.224419 318.664581 \r\nL 354.835989 317.703073 \r\nL 373.28227 321.696875 \r\nL 377.89384 324.201988 \r\nL 382.505411 301.748833 \r\nL 387.116981 285.742673 \r\nL 391.728551 286.741124 \r\nL 396.340121 279.901738 \r\nL 400.951692 280.900189 \r\nL 405.563262 280.210259 \r\nL 410.174832 281.20871 \r\nL 414.786402 290.150832 \r\nL 447.067394 297.139986 \r\nL 451.678964 296.255359 \r\nL 460.902105 298.252259 \r\nL 465.513675 302.065342 \r\nL 470.125245 303.063792 \r\nL 474.736816 308.235766 \r\nL 479.348386 309.62461 \r\nL 483.959956 332.462168 \r\nL 488.571526 331.859104 \r\nL 497.794667 333.856005 \r\nL 502.406237 276.451093 \r\nL 507.017807 250.370568 \r\nL 511.629378 186.621502 \r\nL 557.74508 196.606007 \r\nL 562.35665 163.959671 \r\nL 585.414502 168.951924 \r\nL 590.026072 166.654489 \r\nL 594.637642 171.891362 \r\nL 599.249212 183.786901 \r\nL 608.472353 185.783802 \r\nL 613.083923 190.985729 \r\nL 622.307064 192.98263 \r\nL 626.918634 193.370029 \r\nL 631.530204 173.453937 \r\nL 636.141774 181.69315 \r\nL 640.753345 175.910125 \r\nL 649.976485 177.907026 \r\nL 654.588055 167.067848 \r\nL 686.869047 174.10293 \r\nL 691.480617 83.90491 \r\nL 700.703758 85.901811 \r\nL 705.315328 40.327539 \r\nL 709.926898 41.325989 \r\nL 714.538468 50.439845 \r\nL 737.59632 55.432098 \r\nL 742.20789 55.432098 \r\nL 746.81946 56.430548 \r\nL 746.81946 56.430548 \r\n\" style=\"fill:none;stroke:#ff7f0e;stroke-linecap:square;stroke-width:1.5;\"/>\r\n   </g>\r\n   <g id=\"line2d_20\">\r\n    <path clip-path=\"url(#pcfa2f79193)\" d=\"M 87.364915 341.234554 \r\nL 91.976485 348.904651 \r\nL 96.588055 285.049749 \r\nL 105.811196 287.04665 \r\nL 110.422766 292.299498 \r\nL 115.034336 293.297948 \r\nL 119.645907 299.33458 \r\nL 124.257477 300.33303 \r\nL 128.869047 324.412661 \r\nL 133.480617 327.33213 \r\nL 138.092187 353.675247 \r\nL 142.703758 354.673698 \r\nL 147.315328 365.552814 \r\nL 151.926898 335.537396 \r\nL 156.538468 334.707683 \r\nL 170.373179 337.703035 \r\nL 174.984749 354.651732 \r\nL 184.20789 356.648633 \r\nL 188.81946 296.033703 \r\nL 216.488882 302.024405 \r\nL 221.100452 308.31065 \r\nL 225.712022 303.361331 \r\nL 230.323592 306.957749 \r\nL 234.935163 315.311784 \r\nL 239.546733 323.282415 \r\nL 244.158303 328.2537 \r\nL 248.769873 313.918946 \r\nL 253.381444 302.794211 \r\nL 267.216154 305.789562 \r\nL 271.827725 322.295946 \r\nL 276.439295 323.294396 \r\nL 281.050865 305.743633 \r\nL 285.662435 306.742084 \r\nL 290.274006 313.708273 \r\nL 294.885576 318.125418 \r\nL 299.497146 311.986944 \r\nL 304.108716 308.641137 \r\nL 308.720287 310.846714 \r\nL 313.331857 311.557611 \r\nL 317.943427 312.556061 \r\nL 322.554997 285.295368 \r\nL 336.389708 288.366601 \r\nL 341.001278 290.35851 \r\nL 345.612849 291.35696 \r\nL 350.224419 275.620382 \r\nL 354.835989 275.68628 \r\nL 377.89384 280.678533 \r\nL 382.505411 255.960892 \r\nL 391.728551 257.957793 \r\nL 396.340121 252.187748 \r\nL 410.174832 255.183099 \r\nL 414.786402 265.194562 \r\nL 442.455824 271.185265 \r\nL 447.067394 271.687486 \r\nL 451.678964 271.725427 \r\nL 460.902105 273.722328 \r\nL 465.513675 278.646686 \r\nL 470.125245 278.286245 \r\nL 474.736816 280.963091 \r\nL 479.348386 283.379341 \r\nL 483.959956 307.181402 \r\nL 488.571526 307.479939 \r\nL 497.794667 309.47684 \r\nL 502.406237 249.49293 \r\nL 507.017807 224.460778 \r\nL 557.74508 235.443733 \r\nL 562.35665 200.63775 \r\nL 590.026072 206.628453 \r\nL 594.637642 212.892731 \r\nL 599.249212 222.23024 \r\nL 622.307064 227.222492 \r\nL 626.918634 225.177666 \r\nL 631.530204 202.871283 \r\nL 636.141774 208.531499 \r\nL 640.753345 203.733945 \r\nL 686.869047 213.718449 \r\nL 691.480617 124.652673 \r\nL 700.703758 126.649574 \r\nL 705.315328 78.643076 \r\nL 709.926898 79.641526 \r\nL 714.538468 90.055365 \r\nL 746.81946 97.044518 \r\nL 746.81946 97.044518 \r\n\" style=\"fill:none;stroke:#2ca02c;stroke-linecap:square;stroke-width:1.5;\"/>\r\n   </g>\r\n   <g id=\"line2d_21\">\r\n    <path clip-path=\"url(#pcfa2f79193)\" d=\"M 54.392188 340.236104 \r\nL 779.792187 340.236104 \r\n\" style=\"fill:none;stroke:#ff0000;stroke-dasharray:5.55,2.4;stroke-dashoffset:0;stroke-width:1.5;\"/>\r\n   </g>\r\n   <g id=\"patch_3\">\r\n    <path d=\"M 54.392188 442.08 \r\nL 54.392188 7.2 \r\n\" style=\"fill:none;stroke:#000000;stroke-linecap:square;stroke-linejoin:miter;stroke-width:0.8;\"/>\r\n   </g>\r\n   <g id=\"patch_4\">\r\n    <path d=\"M 779.792187 442.08 \r\nL 779.792187 7.2 \r\n\" style=\"fill:none;stroke:#000000;stroke-linecap:square;stroke-linejoin:miter;stroke-width:0.8;\"/>\r\n   </g>\r\n   <g id=\"patch_5\">\r\n    <path d=\"M 54.392188 442.08 \r\nL 779.792187 442.08 \r\n\" style=\"fill:none;stroke:#000000;stroke-linecap:square;stroke-linejoin:miter;stroke-width:0.8;\"/>\r\n   </g>\r\n   <g id=\"patch_6\">\r\n    <path d=\"M 54.392188 7.2 \r\nL 779.792187 7.2 \r\n\" style=\"fill:none;stroke:#000000;stroke-linecap:square;stroke-linejoin:miter;stroke-width:0.8;\"/>\r\n   </g>\r\n   <g id=\"legend_1\">\r\n    <g id=\"patch_7\">\r\n     <path d=\"M 66.992188 100.861875 \r\nL 158.578438 100.861875 \r\nQ 162.178438 100.861875 162.178438 97.261875 \r\nL 162.178438 19.8 \r\nQ 162.178438 16.2 158.578438 16.2 \r\nL 66.992188 16.2 \r\nQ 63.392188 16.2 63.392188 19.8 \r\nL 63.392188 97.261875 \r\nQ 63.392188 100.861875 66.992188 100.861875 \r\nz\r\n\" style=\"fill:#ffffff;opacity:0.8;stroke:#cccccc;stroke-linejoin:miter;\"/>\r\n    </g>\r\n    <g id=\"line2d_22\">\r\n     <path d=\"M 70.592188 30.777187 \r\nL 106.592188 30.777187 \r\n\" style=\"fill:none;stroke:#1f77b4;stroke-linecap:square;stroke-width:1.5;\"/>\r\n    </g>\r\n    <g id=\"line2d_23\"/>\r\n    <g id=\"text_18\">\r\n     <!-- lm2 -->\r\n     <defs>\r\n      <path d=\"M 9.421875 75.984375 \r\nL 18.40625 75.984375 \r\nL 18.40625 0 \r\nL 9.421875 0 \r\nz\r\n\" id=\"DejaVuSans-108\"/>\r\n      <path d=\"M 52 44.1875 \r\nQ 55.375 50.25 60.0625 53.125 \r\nQ 64.75 56 71.09375 56 \r\nQ 79.640625 56 84.28125 50.015625 \r\nQ 88.921875 44.046875 88.921875 33.015625 \r\nL 88.921875 0 \r\nL 79.890625 0 \r\nL 79.890625 32.71875 \r\nQ 79.890625 40.578125 77.09375 44.375 \r\nQ 74.3125 48.1875 68.609375 48.1875 \r\nQ 61.625 48.1875 57.5625 43.546875 \r\nQ 53.515625 38.921875 53.515625 30.90625 \r\nL 53.515625 0 \r\nL 44.484375 0 \r\nL 44.484375 32.71875 \r\nQ 44.484375 40.625 41.703125 44.40625 \r\nQ 38.921875 48.1875 33.109375 48.1875 \r\nQ 26.21875 48.1875 22.15625 43.53125 \r\nQ 18.109375 38.875 18.109375 30.90625 \r\nL 18.109375 0 \r\nL 9.078125 0 \r\nL 9.078125 54.6875 \r\nL 18.109375 54.6875 \r\nL 18.109375 46.1875 \r\nQ 21.1875 51.21875 25.484375 53.609375 \r\nQ 29.78125 56 35.6875 56 \r\nQ 41.65625 56 45.828125 52.96875 \r\nQ 50 49.953125 52 44.1875 \r\nz\r\n\" id=\"DejaVuSans-109\"/>\r\n     </defs>\r\n     <g transform=\"translate(120.992188 37.077187)scale(0.18 -0.18)\">\r\n      <use xlink:href=\"#DejaVuSans-108\"/>\r\n      <use x=\"27.783203\" xlink:href=\"#DejaVuSans-109\"/>\r\n      <use x=\"125.195312\" xlink:href=\"#DejaVuSans-50\"/>\r\n     </g>\r\n    </g>\r\n    <g id=\"line2d_24\">\r\n     <path d=\"M 70.592188 57.197812 \r\nL 106.592188 57.197812 \r\n\" style=\"fill:none;stroke:#ff7f0e;stroke-linecap:square;stroke-width:1.5;\"/>\r\n    </g>\r\n    <g id=\"line2d_25\"/>\r\n    <g id=\"text_19\">\r\n     <!-- lm3 -->\r\n     <defs>\r\n      <path d=\"M 40.578125 39.3125 \r\nQ 47.65625 37.796875 51.625 33 \r\nQ 55.609375 28.21875 55.609375 21.1875 \r\nQ 55.609375 10.40625 48.1875 4.484375 \r\nQ 40.765625 -1.421875 27.09375 -1.421875 \r\nQ 22.515625 -1.421875 17.65625 -0.515625 \r\nQ 12.796875 0.390625 7.625 2.203125 \r\nL 7.625 11.71875 \r\nQ 11.71875 9.328125 16.59375 8.109375 \r\nQ 21.484375 6.890625 26.8125 6.890625 \r\nQ 36.078125 6.890625 40.9375 10.546875 \r\nQ 45.796875 14.203125 45.796875 21.1875 \r\nQ 45.796875 27.640625 41.28125 31.265625 \r\nQ 36.765625 34.90625 28.71875 34.90625 \r\nL 20.21875 34.90625 \r\nL 20.21875 43.015625 \r\nL 29.109375 43.015625 \r\nQ 36.375 43.015625 40.234375 45.921875 \r\nQ 44.09375 48.828125 44.09375 54.296875 \r\nQ 44.09375 59.90625 40.109375 62.90625 \r\nQ 36.140625 65.921875 28.71875 65.921875 \r\nQ 24.65625 65.921875 20.015625 65.03125 \r\nQ 15.375 64.15625 9.8125 62.3125 \r\nL 9.8125 71.09375 \r\nQ 15.4375 72.65625 20.34375 73.4375 \r\nQ 25.25 74.21875 29.59375 74.21875 \r\nQ 40.828125 74.21875 47.359375 69.109375 \r\nQ 53.90625 64.015625 53.90625 55.328125 \r\nQ 53.90625 49.265625 50.4375 45.09375 \r\nQ 46.96875 40.921875 40.578125 39.3125 \r\nz\r\n\" id=\"DejaVuSans-51\"/>\r\n     </defs>\r\n     <g transform=\"translate(120.992188 63.497812)scale(0.18 -0.18)\">\r\n      <use xlink:href=\"#DejaVuSans-108\"/>\r\n      <use x=\"27.783203\" xlink:href=\"#DejaVuSans-109\"/>\r\n      <use x=\"125.195312\" xlink:href=\"#DejaVuSans-51\"/>\r\n     </g>\r\n    </g>\r\n    <g id=\"line2d_26\">\r\n     <path d=\"M 70.592188 83.618437 \r\nL 106.592188 83.618437 \r\n\" style=\"fill:none;stroke:#2ca02c;stroke-linecap:square;stroke-width:1.5;\"/>\r\n    </g>\r\n    <g id=\"line2d_27\"/>\r\n    <g id=\"text_20\">\r\n     <!-- lm4 -->\r\n     <g transform=\"translate(120.992188 89.918437)scale(0.18 -0.18)\">\r\n      <use xlink:href=\"#DejaVuSans-108\"/>\r\n      <use x=\"27.783203\" xlink:href=\"#DejaVuSans-109\"/>\r\n      <use x=\"125.195312\" xlink:href=\"#DejaVuSans-52\"/>\r\n     </g>\r\n    </g>\r\n   </g>\r\n  </g>\r\n </g>\r\n <defs>\r\n  <clipPath id=\"pcfa2f79193\">\r\n   <rect height=\"434.88\" width=\"725.4\" x=\"54.392188\" y=\"7.2\"/>\r\n  </clipPath>\r\n </defs>\r\n</svg>\r\n",
      "image/png": "[encoded data removed]"
     },
     "metadata": {
      "needs_background": "light"
     }
    }
   ],
   "source": [
    "lm2_trend = lm2_suc_n_profit.iloc[::-1, 5].cumsum().reset_index(drop = True)\n",
    "lm3_trend = lm3_suc_n_profit.iloc[::-1, 5].cumsum().reset_index(drop = True)\n",
    "lm4_trend = lm4_suc_n_profit.iloc[::-1, 5].cumsum().reset_index(drop = True)\n",
    "\n",
    "plt.figure(figsize = (13, 8))\n",
    "plt.plot(lm2_trend, label = 'lm2')\n",
    "plt.plot(lm3_trend, label = 'lm3')\n",
    "plt.plot(lm4_trend, label = 'lm4')\n",
    "\n",
    "plt.axhline(0, color = 'r', linestyle = '--')\n",
    "\n",
    "plt.legend(fontsize = 18)"
   ]
  },
  {
   "cell_type": "code",
   "execution_count": 88,
   "metadata": {},
   "outputs": [
    {
     "output_type": "stream",
     "name": "stdout",
     "text": [
      "lm2:\nwins = 29 loses = 113\nsum loses = -161934.0\nsum wins = 310474.5\n\nlm3:\nwins = 27 loses = 115\nsum loses = -162256.5\nsum wins = 304379.5\n\nlm4:\nwins = 23 loses = 121\nsum loses = -164983.5\nsum wins = 286768.0\n\nlm2_odds = -0.13\nlm3_odds = -0.13\nlm4_odds = -0.11\n"
     ]
    }
   ],
   "source": [
    "def odds(suc_n_pro):\n",
    "    loses = suc_n_pro[suc_n_pro['profit'] < 0].shape[0]\n",
    "    wins = suc_n_pro[suc_n_pro['profit'] > 0].shape[0]\n",
    "    print('wins =', wins, 'loses =', loses)\n",
    "    print('sum loses =', np.round(sum(suc_n_pro[suc_n_pro['profit'] < 0]['profit']), 2))\n",
    "    print('sum wins =', np.round(sum(suc_n_pro[suc_n_pro['profit'] > 0]['profit']), 2))\n",
    "\n",
    "    a = sum(suc_n_pro[suc_n_pro['profit'] < 0]['profit']) / loses\n",
    "    b = sum(suc_n_pro[suc_n_pro['profit'] > 0]['profit']) / wins\n",
    "\n",
    "    return a/b\n",
    "print('lm2:')\n",
    "lm2_odds = np.round(odds(lm2_suc_n_profit), 2)\n",
    "\n",
    "print('\\nlm3:')\n",
    "lm3_odds = np.round(odds(lm3_suc_n_profit), 2)\n",
    "\n",
    "print('\\nlm4:')\n",
    "lm4_odds = np.round(odds(lm4_suc_n_profit), 2)\n",
    "\n",
    "print('\\nlm2_odds =', lm2_odds)\n",
    "print('lm3_odds =', lm3_odds)\n",
    "print('lm4_odds =', lm4_odds)"
   ]
  },
  {
   "source": [
    "* 策略二"
   ],
   "cell_type": "markdown",
   "metadata": {}
  },
  {
   "cell_type": "code",
   "execution_count": 129,
   "metadata": {},
   "outputs": [],
   "source": [
    "def suc_n_pro_2(principal, df_stock, lm_pred):\n",
    "    df_output = pd.DataFrame()\n",
    "    df_output['最低投標價格(元)'] = df_stock['最低投標價格(元)']\n",
    "    df_output['最低得標價格(元)'] = df_stock['最低得標價格(元)']\n",
    "    df_output['撥券日開盤價'] = df_stock['撥券日開盤價']\n",
    "    df_output['pred_y'] = lm_pred\n",
    "    df_output['success'] = 0\n",
    "    df_output['success'] = np.where(df_output['pred_y'] >= df_output['最低得標價格(元)'], 1, 0)\n",
    "\n",
    "    quantity = principal // (1000*lm_pred)\n",
    "    df_output['quantity'] = quantity\n",
    "    df_output['profit'] = np.where(df_output['success'] == 1, (df_output['撥券日開盤價'] - df_output['pred_y']*1.05)*1000*df_output['quantity'] - 500 , -500)\n",
    "\n",
    "    return df_output"
   ]
  },
  {
   "cell_type": "code",
   "execution_count": 175,
   "metadata": {},
   "outputs": [],
   "source": [
    "def strategy2(principal, lm_feature, df_stock):\n",
    "    x_lm = sm.add_constant(df_stock[lm_feature])\n",
    "    lm = sm.OLS(df_stock['最低得標價格(元)'], x_lm).fit()\n",
    "\n",
    "    lm_pred = np.round(lm.predict(x_lm), 2)\n",
    "    df_output = suc_n_pro_2(principal, df_stock, lm_pred)\n",
    "    df_output.fillna(0, inplace = True)\n",
    "\n",
    "    loses = df_output[df_output['profit'] < 0].shape[0]\n",
    "    wins = df_output[df_output['profit'] > 0].shape[0]\n",
    "\n",
    "    sum_loses = np.round(sum(df_output[df_output['profit'] < 0]['profit']), 2)\n",
    "    sum_wins = np.round(sum(df_output[df_output['profit'] > 0]['profit']), 2)\n",
    "\n",
    "    a = sum(df_output[df_output['profit'] < 0]['profit']) / loses\n",
    "    b = sum(df_output[df_output['profit'] > 0]['profit']) / wins\n",
    "\n",
    "    # print(loses, wins, sum_loses, sum_wins, b/a)\n",
    "    df_odds = pd.DataFrame(np.array([[loses, wins, sum_loses, sum_wins, sum_wins + sum_loses, -b/a]]), columns = ['loses', 'wins', 'sum_loses', 'sum_wins', 'balance', 'odds'])\n",
    "\n",
    "    return df_output, df_odds"
   ]
  },
  {
   "cell_type": "code",
   "execution_count": 124,
   "metadata": {},
   "outputs": [],
   "source": [
    "lm2_x = ['投標最後一天平均成交價','處理費_500', '手續費_2.5', '手續費_4.5', '手續費_5', '初上櫃']\n",
    "lm3_x = ['投標最後一天平均成交價','處理費_500', '手續費_2.5', '手續費_4.5', '初上櫃']\n",
    "lm4_x = ['投標最後一天平均成交價', '手續費_2.5', '初上櫃']\n",
    "df_stock = df1_stock_train\n",
    "df_stock['撥券日開盤價'] = df.loc[df_stock.index, '撥券日開盤價']"
   ]
  },
  {
   "cell_type": "code",
   "execution_count": 176,
   "metadata": {},
   "outputs": [],
   "source": [
    "lm2_suc_n_pro_2, lm2_odds_2 = strategy2(5000000, lm2_x, df_stock)\n",
    "lm3_suc_n_pro_2, lm3_odds_2 = strategy2(5000000, lm3_x, df_stock)\n",
    "lm4_suc_n_pro_2, lm4_odds_2 = strategy2(5000000, lm4_x, df_stock)"
   ]
  },
  {
   "cell_type": "code",
   "execution_count": 161,
   "metadata": {},
   "outputs": [],
   "source": [
    "# lm2_suc_n_pro_2"
   ]
  },
  {
   "cell_type": "code",
   "execution_count": 177,
   "metadata": {},
   "outputs": [
    {
     "output_type": "execute_result",
     "data": {
      "text/plain": [
       "   loses  wins  sum_loses    sum_wins     balance      odds\n",
       "0  112.0  30.0 -8950147.0  21663210.5  12713063.5  9.036275"
      ],
      "text/html": "<div>\n<style scoped>\n    .dataframe tbody tr th:only-of-type {\n        vertical-align: middle;\n    }\n\n    .dataframe tbody tr th {\n        vertical-align: top;\n    }\n\n    .dataframe thead th {\n        text-align: right;\n    }\n</style>\n<table border=\"1\" class=\"dataframe\">\n  <thead>\n    <tr style=\"text-align: right;\">\n      <th></th>\n      <th>loses</th>\n      <th>wins</th>\n      <th>sum_loses</th>\n      <th>sum_wins</th>\n      <th>balance</th>\n      <th>odds</th>\n    </tr>\n  </thead>\n  <tbody>\n    <tr>\n      <th>0</th>\n      <td>112.0</td>\n      <td>30.0</td>\n      <td>-8950147.0</td>\n      <td>21663210.5</td>\n      <td>12713063.5</td>\n      <td>9.036275</td>\n    </tr>\n  </tbody>\n</table>\n</div>"
     },
     "metadata": {},
     "execution_count": 177
    }
   ],
   "source": [
    "lm2_odds_2"
   ]
  },
  {
   "cell_type": "code",
   "execution_count": 178,
   "metadata": {},
   "outputs": [
    {
     "output_type": "execute_result",
     "data": {
      "text/plain": [
       "   loses  wins  sum_loses    sum_wins     balance      odds\n",
       "0  113.0  29.0 -8768308.0  20666387.0  11898079.0  9.183944"
      ],
      "text/html": "<div>\n<style scoped>\n    .dataframe tbody tr th:only-of-type {\n        vertical-align: middle;\n    }\n\n    .dataframe tbody tr th {\n        vertical-align: top;\n    }\n\n    .dataframe thead th {\n        text-align: right;\n    }\n</style>\n<table border=\"1\" class=\"dataframe\">\n  <thead>\n    <tr style=\"text-align: right;\">\n      <th></th>\n      <th>loses</th>\n      <th>wins</th>\n      <th>sum_loses</th>\n      <th>sum_wins</th>\n      <th>balance</th>\n      <th>odds</th>\n    </tr>\n  </thead>\n  <tbody>\n    <tr>\n      <th>0</th>\n      <td>113.0</td>\n      <td>29.0</td>\n      <td>-8768308.0</td>\n      <td>20666387.0</td>\n      <td>11898079.0</td>\n      <td>9.183944</td>\n    </tr>\n  </tbody>\n</table>\n</div>"
     },
     "metadata": {},
     "execution_count": 178
    }
   ],
   "source": [
    "lm3_odds_2"
   ]
  },
  {
   "cell_type": "code",
   "execution_count": 179,
   "metadata": {},
   "outputs": [
    {
     "output_type": "execute_result",
     "data": {
      "text/plain": [
       "   loses  wins  sum_loses    sum_wins    balance      odds\n",
       "0  116.0  28.0 -8397354.0  17739792.0  9342438.0  8.751974"
      ],
      "text/html": "<div>\n<style scoped>\n    .dataframe tbody tr th:only-of-type {\n        vertical-align: middle;\n    }\n\n    .dataframe tbody tr th {\n        vertical-align: top;\n    }\n\n    .dataframe thead th {\n        text-align: right;\n    }\n</style>\n<table border=\"1\" class=\"dataframe\">\n  <thead>\n    <tr style=\"text-align: right;\">\n      <th></th>\n      <th>loses</th>\n      <th>wins</th>\n      <th>sum_loses</th>\n      <th>sum_wins</th>\n      <th>balance</th>\n      <th>odds</th>\n    </tr>\n  </thead>\n  <tbody>\n    <tr>\n      <th>0</th>\n      <td>116.0</td>\n      <td>28.0</td>\n      <td>-8397354.0</td>\n      <td>17739792.0</td>\n      <td>9342438.0</td>\n      <td>8.751974</td>\n    </tr>\n  </tbody>\n</table>\n</div>"
     },
     "metadata": {},
     "execution_count": 179
    }
   ],
   "source": [
    " lm4_odds_2"
   ]
  },
  {
   "cell_type": "code",
   "execution_count": null,
   "metadata": {},
   "outputs": [],
   "source": [
    "strategy2(5000000, lm2_x, df_stock)"
   ]
  },
  {
   "cell_type": "code",
   "execution_count": null,
   "metadata": {},
   "outputs": [],
   "source": []
  },
  {
   "cell_type": "code",
   "execution_count": null,
   "metadata": {},
   "outputs": [],
   "source": []
  },
  {
   "cell_type": "code",
   "execution_count": null,
   "metadata": {},
   "outputs": [],
   "source": []
  },
  {
   "cell_type": "code",
   "execution_count": 106,
   "metadata": {},
   "outputs": [],
   "source": [
    "# result = pd.DataFrame()\n",
    "# result['pred_2'] = lm2_suc_n_profit['pred_y']\n",
    "# result['pred_3'] = lm3_suc_n_profit['pred_y']\n",
    "# result['pred_4'] = lm4_suc_n_profit['pred_y']\n",
    "# result['pred_5'] = lm5_suc_n_profit['pred_y']\n",
    "\n",
    "# result['最低得標價格(元)'] = lm2_suc_n_profit['最低得標價格(元)']\n",
    "# result['撥券日開盤價'] = lm2_suc_n_profit['撥券日開盤價']\n",
    "\n",
    "# result['success_2'] = lm2_suc_n_profit['success']\n",
    "# result['success_3'] = lm3_suc_n_profit['success']\n",
    "# result['success_4'] = lm4_suc_n_profit['success']\n",
    "# result['success_5'] = lm5_suc_n_profit['success']\n",
    "\n",
    "# result['profit_2'] = lm2_suc_n_profit['profit']\n",
    "# result['profit_3'] = lm3_suc_n_profit['profit']\n",
    "# result['profit_4'] = lm4_suc_n_profit['profit']\n",
    "# result['profit_5'] = lm5_suc_n_profit['profit']\n",
    "\n",
    "# # result"
   ]
  },
  {
   "cell_type": "code",
   "execution_count": 550,
   "metadata": {},
   "outputs": [],
   "source": [
    "# result.to_csv('result.csv', index = False)"
   ]
  },
  {
   "source": [
    "## cv porfit=="
   ],
   "cell_type": "markdown",
   "metadata": {}
  },
  {
   "cell_type": "code",
   "execution_count": 61,
   "metadata": {},
   "outputs": [],
   "source": [
    "df_stock = df1_stock_train\n",
    "df_stock['撥券日開盤價'] = df.loc[df_stock.index, '撥券日開盤價']\n",
    "\n",
    "def cv_profit(lm_feature, df_stock):\n",
    "    success = []\n",
    "    profit = []\n",
    "    for i in range(5):\n",
    "        data_used = df_stock.sample(n = 100)\n",
    "        x_lm = sm.add_constant(data_used[lm_feature])\n",
    "        lm = sm.OLS(data_used['最低得標價格(元)'], x_lm).fit()\n",
    "\n",
    "        test_data = df_stock.drop(data_used.index)\n",
    "        lm_pred = np.round(lm.predict(sm.add_constant(test_data[lm_feature])), 2)\n",
    "\n",
    "        lm_suc_n_profit = suc_n_profit(df, test_data, lm_pred)\n",
    "        lm_suc_n_profit.fillna(0, inplace = True)\n",
    "\n",
    "        suc = np.mean(lm_suc_n_profit['success'])\n",
    "        pro = np.round(sum(lm_suc_n_profit['profit']), 2)\n",
    "\n",
    "        success.append(suc)\n",
    "        profit.append(pro)\n",
    "    \n",
    "    return success, profit"
   ]
  },
  {
   "cell_type": "code",
   "execution_count": 67,
   "metadata": {},
   "outputs": [],
   "source": [
    "lm2_x = ['投標最後一天平均成交價','處理費_500', '手續費_2.5', '手續費_4.5', '手續費_5', '初上櫃']\n",
    "lm2_suc, lm2_pro = cv_profit(lm2_x, df_stock)"
   ]
  },
  {
   "cell_type": "code",
   "execution_count": 68,
   "metadata": {},
   "outputs": [],
   "source": [
    "lm3_x = ['投標最後一天平均成交價','處理費_500', '手續費_2.5', '手續費_4.5', '初上櫃']\n",
    "lm3_suc, lm3_pro = cv_profit(lm3_x, df_stock)"
   ]
  },
  {
   "cell_type": "code",
   "execution_count": 69,
   "metadata": {},
   "outputs": [],
   "source": [
    "lm4_x = ['投標最後一天平均成交價', '手續費_2.5', '初上櫃']\n",
    "lm4_suc, lm4_pro = cv_profit(lm4_x, df_stock)"
   ]
  },
  {
   "cell_type": "code",
   "execution_count": 72,
   "metadata": {},
   "outputs": [
    {
     "output_type": "stream",
     "name": "stdout",
     "text": [
      "lm2 cv profit = 17939.4\nlm3 cv profit = 33341.0\nlm4 cv profit = 21039.6\n"
     ]
    }
   ],
   "source": [
    "print('lm2 cv profit =', np.mean(lm2_pro))\n",
    "print('lm3 cv profit =', np.mean(lm3_pro))\n",
    "print('lm4 cv profit =', np.mean(lm4_pro))"
   ]
  },
  {
   "cell_type": "code",
   "execution_count": null,
   "metadata": {},
   "outputs": [],
   "source": []
  },
  {
   "cell_type": "code",
   "execution_count": null,
   "metadata": {},
   "outputs": [],
   "source": []
  }
 ]
}